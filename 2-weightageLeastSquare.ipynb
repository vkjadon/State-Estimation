{
  "cells": [
    {
      "cell_type": "markdown",
      "source": [
        "#Weighted Least Square"
      ],
      "metadata": {
        "id": "M1qh7ykeY_Xv"
      }
    },
    {
      "cell_type": "markdown",
      "source": [
        "In measurements of certain parameters, certain measurements are more accurate than others because these may have come from a better sensor. For example, a number of our resistance measurements could have come from a much more expensive multi-meter than the others. Let's begin by using the following general notation.   \n",
        "\n",
        "We'll have a set of $m$ measurements that are related to a set of n unknown parameters through a linear model\n",
        "\n",
        "$\\mathbf{y} = \\mathbf{H}x+\\mathbf{v}$.  \n",
        "\n",
        "Let us assume that each noise term has a different variance, we can define our noise covariance as follows.\n",
        "\n",
        "$ \\mathbf{R} = \\begin{pmatrix}\n",
        "\\sigma^2_1 & 0 &... & 0 \\\\ \n",
        "0 & \\sigma^2_2 & ... &0\\\\ \n",
        ".. & .. & ... &... \\\\ \n",
        "0 & 0 & ... & \\sigma^2_m \\\\\n",
        "\\end{pmatrix}$\n",
        "\n",
        "The loss function for the WLS methos is sum of the weighted squared error. The readings from the reliable sensors are given more weightage. We also know that reliable sensor would have low variance. This gives us an idea of using the inverse of the variance as weights.  \n"
      ],
      "metadata": {
        "id": "suZeHKkp_Yhq"
      }
    },
    {
      "cell_type": "markdown",
      "source": [
        "$$ \\mathcal{L}_{WLS} = \\frac{e_1}{\\sigma_1^2}+\\frac{e_2}{\\sigma_2^2}+ ... + \\frac{e_m}{\\sigma_m^2} $$"
      ],
      "metadata": {
        "id": "uv3-SIdBFV9v"
      }
    },
    {
      "cell_type": "markdown",
      "source": [
        "We can write the above expression in matrix form as,  \n",
        "$ \\mathcal{L}_{WLS} = \\mathbf{e^TR^{-1}e} $  \n",
        "Using the ususl procedure we get the best estimation of the parameters $\\mathbf{x}$ is given by:  \n",
        "$\\hat{\\mathbf{x}} = \\left(\\mathbf{H^TR^{-1}H}\\right)^{-1}\\mathbf{H^TR^{-1}y}$"
      ],
      "metadata": {
        "id": "QU38QzY6GgE_"
      }
    },
    {
      "cell_type": "code",
      "source": [],
      "metadata": {
        "id": "58R6hVks_s03"
      },
      "execution_count": null,
      "outputs": []
    },
    {
      "cell_type": "markdown",
      "source": [
        "### Example -1 One Parameter with weights\n",
        "-----\n",
        "Estimate the resistance of an electrical component using six observations. These measurements are obtained using two different multimeters with different standard deviations as specified in the table below:\n",
        "\n",
        "| R(σ=20 Ω) | R (σ=6 Ω) |\n",
        "|----------|----------|\n",
        "| 1048     | 972      |\n",
        "| 1074     | 988      |\n",
        "| 960      | 1008     |\n",
        "\n",
        "\n"
      ],
      "metadata": {
        "id": "dPCQV1tJ20KW"
      }
    },
    {
      "cell_type": "markdown",
      "source": [
        "**Solution**  \n",
        "\n",
        "The measurement covariance matrix would be\n",
        "\n",
        "$ \\mathbf{R} = \\begin{pmatrix}\n",
        "\\sigma^2_1&0&0&0&0&0 \\\\ \n",
        "0&\\sigma^2_2&0&0&0&0\\\\\n",
        "0&0&\\sigma^2_1&0&0&0\\\\\n",
        "0&0&0&\\sigma^2_2&0&0\\\\\n",
        "0&0&0&0&\\sigma^2_1&0\\\\ \n",
        "0&0&0&0&0&\\sigma^2_2 \\\\\n",
        "\\end{pmatrix}=\\begin{pmatrix}\n",
        "400&0&0&0&0&0 \\\\ \n",
        "0&36&0&0&0&0\\\\\n",
        "0&0&400&0&0&0\\\\\n",
        "0&0&0&36&0&0\\\\\n",
        "0&0&0&0&400&0\\\\ \n",
        "0&0&0&0&0&36 \\\\\n",
        "\\end{pmatrix}$\n",
        "\n",
        "\n",
        "Also, the linear measurement model is $\\mathbf{y} = \\mathbf{H}x+\\mathbf{v}$. The size of $\\mathbf{H}$ would be $6\\times 1$ as there are six measurements and one parameters. This would be an identity matrix as below:\n",
        "\n",
        "$ \\mathbf{H} = \\begin{pmatrix}1\\\\1\\\\1\\\\1\\\\1\\\\1\\\\ \\end{pmatrix}$"
      ],
      "metadata": {
        "id": "3pn9K-rL5dmg"
      }
    },
    {
      "cell_type": "code",
      "source": [],
      "metadata": {
        "id": "KuCSQVjY42hl"
      },
      "execution_count": null,
      "outputs": []
    }
  ],
  "metadata": {
    "kernelspec": {
      "display_name": "Python 3",
      "language": "python",
      "name": "python3"
    },
    "language_info": {
      "codemirror_mode": {
        "name": "ipython",
        "version": 3
      },
      "file_extension": ".py",
      "mimetype": "text/x-python",
      "name": "python",
      "nbconvert_exporter": "python",
      "pygments_lexer": "ipython3",
      "version": "3.8.8"
    },
    "colab": {
      "provenance": []
    }
  },
  "nbformat": 4,
  "nbformat_minor": 0
}