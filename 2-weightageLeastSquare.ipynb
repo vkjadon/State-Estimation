{
  "cells": [
    {
      "cell_type": "markdown",
      "source": [
        "#Weighted Least Square"
      ],
      "metadata": {
        "id": "M1qh7ykeY_Xv"
      }
    },
    {
      "cell_type": "markdown",
      "source": [
        "In measurements of certain parameters, certain measurements are more accurate than others because these may have come from a better sensor. For example, a number of our resistance measurements could have come from a much more expensive multi-meter than the others. Let's begin by using the following general notation.   \n",
        "\n",
        "We'll have a set of $m$ measurements that are related to a set of n unknown parameters through a linear model\n",
        "\n",
        "$\\mathbf{y} = \\mathbf{H}x+\\mathbf{v}$.  \n",
        "\n",
        "Let us assume that each noise term has a different variance, we can define our noise covariance as follows.\n",
        "\n",
        "$ \\mathbf{R} = \\begin{pmatrix}\n",
        "\\sigma^2_1 & 0 &... & 0 \\\\ \n",
        "0 & \\sigma^2_2 & ... &0\\\\ \n",
        ".. & .. & ... &... \\\\ \n",
        "0 & 0 & ... & \\sigma^2_m \\\\\n",
        "\\end{pmatrix}$\n",
        "\n",
        "The loss function for the WLS methos is sum of the weighted squared error. The readings from the reliable sensors are given more weightage. We also know that reliable sensor would have low variance. This gives us an idea of using the inverse of the variance as weights.  \n"
      ],
      "metadata": {
        "id": "suZeHKkp_Yhq"
      }
    },
    {
      "cell_type": "markdown",
      "source": [
        "$$ \\mathcal{L}_{WLS} = \\frac{e_1}{\\sigma_1^2}+\\frac{e_2}{\\sigma_2^2}+ ... + \\frac{e_m}{\\sigma_m^2} $$"
      ],
      "metadata": {
        "id": "uv3-SIdBFV9v"
      }
    },
    {
      "cell_type": "markdown",
      "source": [
        "We can write the above expression in matrix form as,  \n",
        "$\\mathcal{L}_{WLS} = \\mathbf{e^TR^{-1}e}$  \n",
        "Using the usual procedure we get the best estimation of the parameters $\\mathbf{x}$ is given by:  \n",
        "$\\hat{\\mathbf{x}} = \\left(\\mathbf{H^TR^{-1}H}\\right)^{-1}\\mathbf{H^TR^{-1}y}$"
      ],
      "metadata": {
        "id": "QU38QzY6GgE_"
      }
    },
    {
      "cell_type": "markdown",
      "source": [
        "### Example -1 One Parameter with weights\n",
        "-----\n",
        "Estimate the resistance of an electrical component using six observations. These measurements are obtained using two different multimeters with different standard deviations as specified in the table below:\n",
        "\n",
        "| R(σ=20 Ω) | R (σ=6 Ω) |\n",
        "|----------|----------|\n",
        "| 1048     | 992      |\n",
        "| 1074     | 988      |\n",
        "| 960      | 1008     |\n",
        "\n",
        "\n"
      ],
      "metadata": {
        "id": "dPCQV1tJ20KW"
      }
    },
    {
      "cell_type": "markdown",
      "source": [
        "**Solution**  \n",
        "\n",
        "The measurement covariance matrix would be\n",
        "\n",
        "$ \\mathbf{R} = \\begin{pmatrix}\n",
        "\\sigma^2_1&0&0&0&0&0 \\\\ \n",
        "0&\\sigma^2_2&0&0&0&0\\\\\n",
        "0&0&\\sigma^2_1&0&0&0\\\\\n",
        "0&0&0&\\sigma^2_2&0&0\\\\\n",
        "0&0&0&0&\\sigma^2_1&0\\\\ \n",
        "0&0&0&0&0&\\sigma^2_2 \\\\\n",
        "\\end{pmatrix}=\\begin{pmatrix}\n",
        "400&0&0&0&0&0 \\\\ \n",
        "0&36&0&0&0&0\\\\\n",
        "0&0&400&0&0&0\\\\\n",
        "0&0&0&36&0&0\\\\\n",
        "0&0&0&0&400&0\\\\ \n",
        "0&0&0&0&0&36 \\\\\n",
        "\\end{pmatrix}$\n",
        "\n",
        "\n",
        "Also, the linear measurement model is $\\mathbf{y} = \\mathbf{H}x+\\mathbf{v}$. The size of $\\mathbf{H}$ would be $6\\times 1$ as there are six measurements and one parameters. This would be an identity matrix as below:\n",
        "\n",
        "$ \\mathbf{H} = \\begin{pmatrix}1\\\\1\\\\1\\\\1\\\\1\\\\1\\\\ \\end{pmatrix}$  \n",
        "and the $\\mathbf{y}$ is given by;  $\\mathbf{y} = \\begin{pmatrix}1048\\\\992\\\\1074\\\\988\\\\960\\\\1008\\\\ \\end{pmatrix}$"
      ],
      "metadata": {
        "id": "3pn9K-rL5dmg"
      }
    },
    {
      "cell_type": "markdown",
      "source": [
        "Now we can use the follwoing expression to find the best **weighted** estimate of the resistance, $\\hat{\\mathbf{x}}$:  \n",
        "$\\hat{\\mathbf{x}} = \\left(\\mathbf{H^TR^{-1}H}\\right)^{-1}\\mathbf{H^TR^{-1}y}$"
      ],
      "metadata": {
        "id": "f61eLea9_bak"
      }
    },
    {
      "cell_type": "code",
      "source": [
        "import numpy as np\n",
        "from numpy.linalg import inv\n",
        "import matplotlib.pyplot as plt\n",
        "\n",
        "# Store the voltage and current data as column vectors.\n",
        "H = np.ones((6, 1)).reshape(6,1)\n",
        "y = np.array([[1048, 992, 1074, 988, 960, 1008]]).T"
      ],
      "metadata": {
        "id": "KuCSQVjY42hl"
      },
      "execution_count": 32,
      "outputs": []
    },
    {
      "cell_type": "code",
      "source": [
        "x_ls = inv(H.T.dot(H)).dot(H.T).dot(y)\n",
        "print('The Resistance R :')\n",
        "print(x_ls)"
      ],
      "metadata": {
        "colab": {
          "base_uri": "https://localhost:8080/"
        },
        "id": "s1-FnHR-A5Na",
        "outputId": "4fbae8ef-d4fc-46d8-c60b-605eb3f5f8da"
      },
      "execution_count": 33,
      "outputs": [
        {
          "output_type": "stream",
          "name": "stdout",
          "text": [
            "The Resistance R :\n",
            "[[1011.66666667]]\n"
          ]
        }
      ]
    },
    {
      "cell_type": "markdown",
      "source": [
        "###Generating Covariance Matrix"
      ],
      "metadata": {
        "id": "0QfzEWw8E9px"
      }
    },
    {
      "cell_type": "code",
      "source": [
        "R=np.diag(np.full(6,400))\n",
        "R[1,1]=R[3,3]=R[5,5]=36\n",
        "print(R)"
      ],
      "metadata": {
        "colab": {
          "base_uri": "https://localhost:8080/"
        },
        "id": "72N4dbqjBTGn",
        "outputId": "0f2dc8d6-8042-47f7-8667-293d06bb0d29"
      },
      "execution_count": 34,
      "outputs": [
        {
          "output_type": "stream",
          "name": "stdout",
          "text": [
            "[[400   0   0   0   0   0]\n",
            " [  0  36   0   0   0   0]\n",
            " [  0   0 400   0   0   0]\n",
            " [  0   0   0  36   0   0]\n",
            " [  0   0   0   0 400   0]\n",
            " [  0   0   0   0   0  36]]\n"
          ]
        }
      ]
    },
    {
      "cell_type": "code",
      "source": [
        "x_ls = inv((H.T.dot(inv(R)).dot(H))).dot((H.T).dot(inv(R))).dot(y)\n",
        "print('The Resistance R :')\n",
        "print(x_ls)"
      ],
      "metadata": {
        "colab": {
          "base_uri": "https://localhost:8080/"
        },
        "id": "AHs92pGMEiCu",
        "outputId": "a6a5750b-f1d5-40c4-aee0-fe27fa6eec5b"
      },
      "execution_count": 35,
      "outputs": [
        {
          "output_type": "stream",
          "name": "stdout",
          "text": [
            "The Resistance R :\n",
            "[[998.58715596]]\n"
          ]
        }
      ]
    },
    {
      "cell_type": "code",
      "source": [],
      "metadata": {
        "id": "hWK-3MiYFIW2"
      },
      "execution_count": 35,
      "outputs": []
    }
  ],
  "metadata": {
    "kernelspec": {
      "display_name": "Python 3",
      "language": "python",
      "name": "python3"
    },
    "language_info": {
      "codemirror_mode": {
        "name": "ipython",
        "version": 3
      },
      "file_extension": ".py",
      "mimetype": "text/x-python",
      "name": "python",
      "nbconvert_exporter": "python",
      "pygments_lexer": "ipython3",
      "version": "3.8.8"
    },
    "colab": {
      "provenance": []
    }
  },
  "nbformat": 4,
  "nbformat_minor": 0
}