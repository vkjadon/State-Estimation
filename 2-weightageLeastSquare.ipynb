{
  "cells": [
    {
      "cell_type": "markdown",
      "metadata": {
        "id": "eMeCqrZCA5Qf"
      },
      "source": [
        "## Problem Statement\n",
        "-----\n",
        "The measurements of voltage drop and the current are taken to measure the resistance using multimeter. Following data are collected:\n",
        "\n",
        "| Current (A) | Voltage (V) |\n",
        "|-------------|-------------|\n",
        "| 0.2         | 1.23        |\n",
        "| 0.3         | 1.30        |\n",
        "| 0.4         | 1.50|\n",
        "| 0.5         |1.70|\n",
        "| 0.6         | 2.2|\n",
        "\n",
        "Fit a line assuming the measurement model $V = IR + V_0$ using the method of least squares to evaluate the resistance."
      ]
    },
    {
      "cell_type": "code",
      "execution_count": 1,
      "metadata": {
        "id": "Jtl_Xw0FA5Qj"
      },
      "outputs": [],
      "source": [
        "import numpy as np\n",
        "from numpy.linalg import inv\n",
        "import matplotlib.pyplot as plt\n",
        "\n",
        "# Store the voltage and current data as column vectors.\n",
        "I = np.array([[0.2, 0.3, 0.4, 0.5, 0.6]]).T\n",
        "V = np.array([[1.23, 1.30, 1.5, 1.7, 2.2]]).T"
      ]
    },
    {
      "cell_type": "code",
      "execution_count": 2,
      "metadata": {
        "colab": {
          "base_uri": "https://localhost:8080/",
          "height": 279
        },
        "id": "HqiJWMgzA5Ql",
        "outputId": "489b44f7-7da0-4ffc-9a67-c5a2fec709d8"
      },
      "outputs": [
        {
          "output_type": "display_data",
          "data": {
            "text/plain": [
              "<Figure size 432x288 with 1 Axes>"
            ],
            "image/png": "[encoded data removed]"
          },
          "metadata": {
            "needs_background": "light"
          }
        }
      ],
      "source": [
        "plt.scatter(I, V)\n",
        "plt.xlabel('Current (A)')\n",
        "plt.ylabel('Voltage (V)')\n",
        "plt.grid(True)\n",
        "plt.show()"
      ]
    },
    {
      "cell_type": "markdown",
      "source": [
        "Now, in this case we have to compute the two parameters, $\\mathbf{R}$ and $\\mathbf{b}$. So we have $m=4; n=2$, where $m$ is number of observations and $n$ is the number of parameters.  \n",
        "It is also important to note that, the Jacobian matrix $\\mathbf{H}$ is not equal to $\\mathbf{I}$ but is of size $m × n$ and the elemts are given by the partial differentiation of measurement model with respect to the parameters."
      ],
      "metadata": {
        "id": "hmso6ZMmBvo-"
      }
    },
    {
      "cell_type": "markdown",
      "source": [
        "$ \\mathbf{H} = \\begin{pmatrix}\n",
        "\\frac{\\partial y_1}{\\partial R} & \\frac{\\partial y_1}{\\partial b} \\\\ \n",
        "\\frac{\\partial y_2}{\\partial R} & \\frac{\\partial y_2}{\\partial b} \\\\ \n",
        "\\frac{\\partial y_3}{\\partial R} & \\frac{\\partial y_3}{\\partial b} \\\\\n",
        "\\frac{\\partial y_4}{\\partial R} & \\frac{\\partial y_4}{\\partial b} \\\\\n",
        "\\frac{\\partial y_5}{\\partial R} & \\frac{\\partial y_5}{\\partial b} \\\\\n",
        "\\end{pmatrix}=\n",
        "\\begin{pmatrix}\n",
        "I_1 & 1 \\\\ \n",
        "I_2 & 1 \\\\ \n",
        "I_3 & 1 \\\\ \n",
        "I_4 & 1 \\\\ \n",
        "I_5 & 1 \\\\ \n",
        "\\end{pmatrix}$"
      ],
      "metadata": {
        "id": "MlX3kn4BEswJ"
      }
    },
    {
      "cell_type": "markdown",
      "metadata": {
        "id": "6y5Lnp-9A5Qm"
      },
      "source": [
        "## Least Square Formulation\n",
        "----\n",
        "From the Squared Error Criterion\n",
        "\n",
        "\\begin{align}\n",
        "\\hat{R} = \\left(\\mathbf{H}^T\\mathbf{H}\\right)^{-1}\\mathbf{H}^T\\mathbf{y}\n",
        "\\end{align}"
      ]
    },
    {
      "cell_type": "code",
      "execution_count": 3,
      "metadata": {
        "colab": {
          "base_uri": "https://localhost:8080/",
          "height": 511
        },
        "id": "WJamZFYLA5Qn",
        "outputId": "8ed36dbc-6acf-44b0-ae3e-ae2ff31f213f"
      },
      "outputs": [
        {
          "output_type": "stream",
          "name": "stdout",
          "text": [
            "[[1. 1.]\n",
            " [1. 1.]\n",
            " [1. 1.]\n",
            " [1. 1.]\n",
            " [1. 1.]]\n",
            "[[0.2 1. ]\n",
            " [0.3 1. ]\n",
            " [0.4 1. ]\n",
            " [0.5 1. ]\n",
            " [0.6 1. ]]\n",
            "The slope and offset parameters of the best-fit line (i.e., the resistance and offset) are [R, b]:\n",
            "2.3400000000000003\n",
            "0.6500000000000001\n"
          ]
        },
        {
          "output_type": "display_data",
          "data": {
            "text/plain": [
              "<Figure size 432x288 with 1 Axes>"
            ],
            "image/png": "[encoded data removed]"
          },
          "metadata": {
            "needs_background": "light"
          }
        }
      ],
      "source": [
        "H = np.ones((5, 2))\n",
        "print(H)\n",
        "#Assign the values of the current in the first [index-0] column of the Jacobian matrix using the : operator\n",
        "H[:, 0] = I.T\n",
        "print(H)\n",
        "x_ls = inv(H.T.dot(H)).dot(H.T).dot(V)\n",
        "print('The slope and offset parameters of the best-fit line (i.e., the resistance and offset) are [R, b]:')\n",
        "print(x_ls[0,0])\n",
        "print(x_ls[1,0])\n",
        "\n",
        "# Plot line.\n",
        "I_line = np.arange(0, 0.8, 0.1).reshape(8, 1)\n",
        "V_line = x_ls[0,0]*I_line + x_ls[1,0]\n",
        "\n",
        "plt.scatter(I, V)\n",
        "plt.plot(I_line, V_line)\n",
        "plt.xlabel('Current (A)')\n",
        "plt.ylabel('Voltage (V)')\n",
        "plt.grid(True)\n",
        "plt.show()"
      ]
    },
    {
      "cell_type": "code",
      "execution_count": null,
      "metadata": {
        "id": "xZ-bHMizA5Qo"
      },
      "outputs": [],
      "source": []
    }
  ],
  "metadata": {
    "kernelspec": {
      "display_name": "Python 3",
      "language": "python",
      "name": "python3"
    },
    "language_info": {
      "codemirror_mode": {
        "name": "ipython",
        "version": 3
      },
      "file_extension": ".py",
      "mimetype": "text/x-python",
      "name": "python",
      "nbconvert_exporter": "python",
      "pygments_lexer": "ipython3",
      "version": "3.8.8"
    },
    "colab": {
      "provenance": []
    }
  },
  "nbformat": 4,
  "nbformat_minor": 0
}
