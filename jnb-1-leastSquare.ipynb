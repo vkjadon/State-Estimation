{
  "cells": [
    {
      "cell_type": "markdown",
      "metadata": {
        "id": "9u-r-YTtKMEM"
      },
      "source": [
        "## Introduction\n",
        "-----\n",
        "Estimate the resistance of an electrical component using a multimeter observations of voltage drop across the resistor at various current values. The voltage observations are tabulated below:\n",
        "\n",
        "| Current (A) | Voltage (V) |\n",
        "|-------------|-------------|\n",
        "| 0.2         | 1.23        |\n",
        "| 0.3         | 1.38        |\n",
        "| 0.4         | 2.06        |\n",
        "| 0.5         | 2.47        |\n",
        "| 0.6         | 3.17        |\n",
        "\n",
        "\n"
      ]
    },
    {
      "cell_type": "code",
      "execution_count": 1,
      "metadata": {
        "id": "EODIhWOMKMEO"
      },
      "outputs": [],
      "source": [
        "import numpy as np\n",
        "from numpy.linalg import inv\n",
        "import matplotlib.pyplot as plt\n",
        "\n",
        "# Store the voltage and current data as column vectors.\n",
        "I = np.array([0.2, 0.3, 0.4, 0.5, 0.6])\n",
        "V = np.array([1.23, 1.38, 2.06, 2.47, 3.17])"
      ]
    },
    {
      "cell_type": "code",
      "execution_count": 2,
      "metadata": {
        "id": "s91T1exkKMEP",
        "outputId": "0b19e11f-14ac-4297-8860-d6d1a3a47329",
        "colab": {
          "base_uri": "https://localhost:8080/",
          "height": 282
        }
      },
      "outputs": [
        {
          "output_type": "display_data",
          "data": {
            "text/plain": [
              "<Figure size 432x288 with 1 Axes>"
            ],
            "image/png": "[encoded data removed]"
          },
          "metadata": {
            "needs_background": "light"
          }
        }
      ],
      "source": [
        "plt.scatter(I, V)\n",
        "plt.xlabel('Current (A)')\n",
        "plt.ylabel('Voltage (V)')\n",
        "plt.grid(True)\n",
        "plt.show()"
      ]
    },
    {
      "cell_type": "markdown",
      "metadata": {
        "id": "G6MSBRx3KMEQ"
      },
      "source": [
        "## Estimating Resistance\n",
        "----\n",
        "\n",
        "Recall the linear measurement model and the parameter estimation $\\hat{x}$ are given by the following relations:\n",
        "\n",
        "\\begin{align}\n",
        "\\mathbf{y} = \\mathbf{H}x+\\mathbf{v}\\\n",
        "\\end{align}\n",
        "\n",
        "\\begin{align}\n",
        "\\hat{x} = \\left(\\mathbf{H}^T\\mathbf{H}\\right)^{-1}\\mathbf{H}^T\\mathbf{y}\n",
        "\\end{align}\n",
        "\n",
        "For a resitance parameter using voltage and the current, our measurement model is given by:  \n",
        "\n",
        "\\begin{align}\n",
        "\\mathbf{V} = \\mathbf{I}R+\\mathbf{v}\\\n",
        "\\end{align}\n",
        "\n",
        "The best estimated resistance is given by:   \n",
        "\n",
        "\\begin{align}\n",
        "\\hat{R} = \\left(\\mathbf{I}^T\\mathbf{I}\\right)^{-1}\\mathbf{I}^T\\mathbf{y}\n",
        "\\end{align}\n",
        "\n",
        "where, $\\mathbf{H=I}$, the partial derivative of the measurement model with respect to the parameyter."
      ]
    },
    {
      "cell_type": "code",
      "execution_count": null,
      "metadata": {
        "id": "3YSK8sKQKMER",
        "outputId": "20fedd02-e258-48d7-d202-bab7aa35054d"
      },
      "outputs": [
        {
          "name": "stdout",
          "output_type": "stream",
          "text": [
            "[[0.2]\n",
            " [0.3]\n",
            " [0.4]\n",
            " [0.5]\n",
            " [0.6]]\n",
            "The resistance is :\n",
            "[[5.13444444]]\n"
          ]
        }
      ],
      "source": [
        "# Define the H matrix - the Jacobian \n",
        "H = I\n",
        "print(H)\n",
        "# Now estimate the resistance parameter.\n",
        "# R = ... \n",
        "R=np.matmul(H.T,H)\n",
        "R=np.linalg.inv(R)\n",
        "R=np.matmul(R,H.T)\n",
        "R=np.matmul(R,V)\n",
        "print('The resistance is :')\n",
        "#print(R[0, 0])\n",
        "#print(H_Transpose)\n",
        "print(R)"
      ]
    },
    {
      "cell_type": "code",
      "execution_count": null,
      "metadata": {
        "id": "F3-21vJCKMER",
        "outputId": "682d0b22-138a-4b10-8e76-f91ec0dd8e86"
      },
      "outputs": [
        {
          "data": {
            "image/png": "[encoded data removed]",
            "text/plain": [
              "<Figure size 432x288 with 1 Axes>"
            ]
          },
          "metadata": {
            "needs_background": "light"
          },
          "output_type": "display_data"
        }
      ],
      "source": [
        "# Plot line.\n",
        "I_line = np.arange(0, 0.8, 0.1).reshape(8, 1)\n",
        "V_line = I_line*R\n",
        "\n",
        "plt.scatter(I, V)\n",
        "plt.plot(I_line, V_line)\n",
        "plt.xlabel('Current (A)')\n",
        "plt.ylabel('Voltage (V)')\n",
        "plt.grid(True)\n",
        "plt.show()"
      ]
    },
    {
      "cell_type": "code",
      "execution_count": null,
      "metadata": {
        "id": "wE-EJiVpKMER"
      },
      "outputs": [],
      "source": []
    }
  ],
  "metadata": {
    "kernelspec": {
      "display_name": "Python 3",
      "language": "python",
      "name": "python3"
    },
    "language_info": {
      "codemirror_mode": {
        "name": "ipython",
        "version": 3
      },
      "file_extension": ".py",
      "mimetype": "text/x-python",
      "name": "python",
      "nbconvert_exporter": "python",
      "pygments_lexer": "ipython3",
      "version": "3.8.5"
    },
    "colab": {
      "provenance": []
    }
  },
  "nbformat": 4,
  "nbformat_minor": 0
}