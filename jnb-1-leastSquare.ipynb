{
  "cells": [
    {
      "cell_type": "markdown",
      "metadata": {
        "id": "9u-r-YTtKMEM"
      },
      "source": [
        "## Introduction\n",
        "-----\n",
        "Estimate the resistance of an electrical component using a multimeter observations of voltage drop across the resistor at various current values. The voltage observations are tabulated below:\n",
        "\n",
        "| Current (A) | Voltage (V) |\n",
        "|-------------|-------------|\n",
        "| 0.2         | 1.23        |\n",
        "| 0.3         | 1.38        |\n",
        "| 0.4         | 2.06        |\n",
        "| 0.5         | 2.47        |\n",
        "| 0.6         | 3.17        |\n",
        "\n",
        "\n"
      ]
    },
    {
      "cell_type": "code",
      "execution_count": 39,
      "metadata": {
        "colab": {
          "base_uri": "https://localhost:8080/"
        },
        "id": "EODIhWOMKMEO",
        "outputId": "50bf7c9d-8314-44ff-84a0-e2339e3d7143"
      },
      "outputs": [
        {
          "output_type": "stream",
          "name": "stdout",
          "text": [
            "(5, 1) (5,)\n"
          ]
        }
      ],
      "source": [
        "import numpy as np\n",
        "from numpy.linalg import inv\n",
        "import matplotlib.pyplot as plt\n",
        "\n",
        "# Store the voltage and current data as column vectors. The shape of I has to be (5,1) not (5,)\n",
        "I = np.array([[0.2, 0.3, 0.4, 0.5, 0.6]]).T\n",
        "\n",
        "#Remove one set of [] and try to estimate R\n",
        "\n",
        "#I = np.array([0.2, 0.3, 0.4, 0.5, 0.6]).reshape(5,1)\n",
        "V = np.array([1.23, 1.38, 2.06, 2.47, 3.17]).T\n",
        "print(I.shape, V.shape)"
      ]
    },
    {
      "cell_type": "code",
      "execution_count": 40,
      "metadata": {
        "colab": {
          "base_uri": "https://localhost:8080/",
          "height": 282
        },
        "id": "s91T1exkKMEP",
        "outputId": "3d22b294-e0c4-4ae5-a14b-9a53e7d3f6a2"
      },
      "outputs": [
        {
          "output_type": "display_data",
          "data": {
            "text/plain": [
              "<Figure size 432x288 with 1 Axes>"
            ],
            "image/png": "[encoded data removed]"
          },
          "metadata": {
            "needs_background": "light"
          }
        }
      ],
      "source": [
        "plt.scatter(I, V)\n",
        "plt.xlabel('Current (A)')\n",
        "plt.ylabel('Voltage (V)')\n",
        "plt.grid(True)\n",
        "plt.show()"
      ]
    },
    {
      "cell_type": "markdown",
      "metadata": {
        "id": "G6MSBRx3KMEQ"
      },
      "source": [
        "## Estimating Resistance\n",
        "----\n",
        "\n",
        "Recall the linear measurement model and the parameter estimation $\\hat{x}$ are given by the following relations:\n",
        "\n",
        "\\begin{align}\n",
        "\\mathbf{y} = \\mathbf{H}x+\\mathbf{v}\\\n",
        "\\end{align}\n",
        "\n",
        "\\begin{align}\n",
        "\\hat{x} = \\left(\\mathbf{H}^T\\mathbf{H}\\right)^{-1}\\mathbf{H}^T\\mathbf{y}\n",
        "\\end{align}\n",
        "\n",
        "For a resitance parameter using voltage and the current, our measurement model is given by:  \n",
        "\n",
        "\\begin{align}\n",
        "\\mathbf{V} = \\mathbf{I}R+\\mathbf{v}\\\n",
        "\\end{align}\n",
        "\n",
        "The best estimated resistance is given by:   \n",
        "\n",
        "\\begin{align}\n",
        "\\hat{R} = \\left(\\mathbf{I}^T\\mathbf{I}\\right)^{-1}\\mathbf{I}^T\\mathbf{y}\n",
        "\\end{align}\n",
        "\n",
        "where, $\\mathbf{H=I}$, the partial derivative of the measurement model with respect to the parameter."
      ]
    },
    {
      "cell_type": "code",
      "execution_count": 44,
      "metadata": {
        "colab": {
          "base_uri": "https://localhost:8080/"
        },
        "id": "3YSK8sKQKMER",
        "outputId": "0d9cf01b-5c5c-4f78-f2d0-1d5de0df5184"
      },
      "outputs": [
        {
          "output_type": "stream",
          "name": "stdout",
          "text": [
            "[[0.2]\n",
            " [0.3]\n",
            " [0.4]\n",
            " [0.5]\n",
            " [0.6]] (5, 1)\n",
            "[[0.9]] (1, 1)\n",
            "The resistance is :  [5.13444444] 5.134444444444445\n"
          ]
        }
      ],
      "source": [
        "# Define the H matrix - the Jacobian \n",
        "H = I\n",
        "print(H, H.shape)\n",
        "# Now estimate the resistance parameter.\n",
        "# R = ... \n",
        "R=np.matmul(H.T,H)\n",
        "print(R, R.shape)\n",
        "R=np.linalg.inv(R)\n",
        "R=np.matmul(R,H.T)\n",
        "R=np.matmul(R,V)\n",
        "print('The resistance is : ',R, R[0])"
      ]
    },
    {
      "cell_type": "code",
      "execution_count": 24,
      "metadata": {
        "colab": {
          "base_uri": "https://localhost:8080/",
          "height": 279
        },
        "id": "F3-21vJCKMER",
        "outputId": "a5db6d2b-6734-4ea9-a84c-3c9127c41361"
      },
      "outputs": [
        {
          "output_type": "display_data",
          "data": {
            "text/plain": [
              "<Figure size 432x288 with 1 Axes>"
            ],
            "image/png": "[encoded data removed]"
          },
          "metadata": {
            "needs_background": "light"
          }
        }
      ],
      "source": [
        "# Plot line.\n",
        "I_line = np.arange(0, 0.8, 0.1).reshape(8, 1)\n",
        "V_line = I_line*R\n",
        "\n",
        "plt.scatter(I, V)\n",
        "plt.plot(I_line, V_line)\n",
        "plt.xlabel('Current (A)')\n",
        "plt.ylabel('Voltage (V)')\n",
        "plt.grid(True)\n",
        "plt.show()"
      ]
    },
    {
      "cell_type": "code",
      "execution_count": null,
      "metadata": {
        "id": "wE-EJiVpKMER"
      },
      "outputs": [],
      "source": []
    }
  ],
  "metadata": {
    "kernelspec": {
      "display_name": "Python 3",
      "language": "python",
      "name": "python3"
    },
    "language_info": {
      "codemirror_mode": {
        "name": "ipython",
        "version": 3
      },
      "file_extension": ".py",
      "mimetype": "text/x-python",
      "name": "python",
      "nbconvert_exporter": "python",
      "pygments_lexer": "ipython3",
      "version": "3.8.5"
    },
    "colab": {
      "provenance": []
    }
  },
  "nbformat": 4,
  "nbformat_minor": 0
}