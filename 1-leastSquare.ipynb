{
  "cells": [
    {
      "cell_type": "markdown",
      "source": [
        "#Least Square Estimation"
      ],
      "metadata": {
        "id": "RJ7CLAFxVoez"
      }
    },
    {
      "cell_type": "markdown",
      "source": [
        "The best estimation of a value is that which minimizes the sum of the squared errors between what we observed and what we expect.\n",
        "Let us consider the following measurements($\\mathbf{y}$) for estimating the parameter($x$):  \n",
        "$\\mathbf{y} = \\begin{bmatrix} 1003 & 998 & 1014 & 1020 & 990\\end{bmatrix}$  \n",
        "To handle this, we have to assume appropriate the measurement model. Let us consider linear model for the measurement as below:  \n",
        "$\\mathbf{y} = \\mathbf{H}x+\\mathbf{v}$.  \n",
        "where, $v$, is the measurement noise independent of each other.\n"
      ],
      "metadata": {
        "id": "-BtyB0VCbnL6"
      }
    },
    {
      "cell_type": "markdown",
      "metadata": {
        "id": "9u-r-YTtKMEM"
      },
      "source": [
        "### Example -1 One Parameters\n",
        "-----\n",
        "Estimate the resistance of an electrical component using a multimeter observations of voltage drop across the resistor at various current values. The voltage observations are tabulated below:\n",
        "\n",
        "| Current (A) | Voltage (V) |\n",
        "|-------------|-------------|\n",
        "| 0.2         | 1.23        |\n",
        "| 0.3         | 1.38        |\n",
        "| 0.4         | 2.06        |\n",
        "| 0.5         | 2.47        |\n",
        "| 0.6         | 3.17        |\n",
        "\n",
        "\n"
      ]
    },
    {
      "cell_type": "code",
      "execution_count": null,
      "metadata": {
        "colab": {
          "base_uri": "https://localhost:8080/"
        },
        "id": "EODIhWOMKMEO",
        "outputId": "8a15b92d-8407-42c4-9d84-687e0b206119"
      },
      "outputs": [
        {
          "output_type": "stream",
          "name": "stdout",
          "text": [
            "(5, 1) (5,)\n"
          ]
        }
      ],
      "source": [
        "import numpy as np\n",
        "from numpy.linalg import inv\n",
        "import matplotlib.pyplot as plt\n",
        "\n",
        "# Store the voltage and current data as column vectors. The shape of I has to be (5,1) not (5,)\n",
        "I = np.array([[0.2, 0.3, 0.4, 0.5, 0.6]]).T\n",
        "\n",
        "#Remove one set of [] and try to estimate R\n",
        "\n",
        "#I = np.array([0.2, 0.3, 0.4, 0.5, 0.6]).reshape(5,1)\n",
        "V = np.array([1.23, 1.38, 2.06, 2.47, 3.17]).T\n",
        "print(I.shape, V.shape)"
      ]
    },
    {
      "cell_type": "code",
      "execution_count": null,
      "metadata": {
        "colab": {
          "base_uri": "https://localhost:8080/",
          "height": 282
        },
        "id": "s91T1exkKMEP",
        "outputId": "321c33ca-2785-470f-cbf5-ce313a63ca83"
      },
      "outputs": [
        {
          "output_type": "display_data",
          "data": {
            "text/plain": [
              "<Figure size 432x288 with 1 Axes>"
            ],
            "image/png": "[encoded data removed]"
          },
          "metadata": {
            "needs_background": "light"
          }
        }
      ],
      "source": [
        "plt.scatter(I, V)\n",
        "plt.xlabel('Current (A)')\n",
        "plt.ylabel('Voltage (V)')\n",
        "plt.grid(True)\n",
        "plt.show()"
      ]
    },
    {
      "cell_type": "markdown",
      "metadata": {
        "id": "G6MSBRx3KMEQ"
      },
      "source": [
        "### Estimating Resistance\n",
        "----\n",
        "\n",
        "Recall the linear measurement model and the parameter estimation $\\hat{x}$ are given by the following relations:\n",
        "\n",
        "\\begin{align}\n",
        "\\mathbf{y} = \\mathbf{H}x+\\mathbf{v}\\\n",
        "\\end{align}\n",
        "\n",
        "\\begin{align}\n",
        "\\hat{x} = \\left(\\mathbf{H}^T\\mathbf{H}\\right)^{-1}\\mathbf{H}^T\\mathbf{y}\n",
        "\\end{align}\n",
        "\n",
        "In case of present problem $\\mathbf{y=V}$ and $x=R$, for a resitance parameter using voltage and the current, our measurement model is given by:  \n",
        "\n",
        "\\begin{align}\n",
        "\\mathbf{V} = \\mathbf{I}R+\\mathbf{v}\\\n",
        "\\end{align}\n",
        "\n",
        "The best estimated resistance is given by:   \n",
        "\n",
        "\\begin{align}\n",
        "\\hat{R} = \\left(\\mathbf{I}^T\\mathbf{I}\\right)^{-1}\\mathbf{I}^T\\mathbf{y}\n",
        "\\end{align}\n",
        "\n",
        "where, $\\mathbf{H=I}$, the partial derivative of the measurement model with respect to the parameter."
      ]
    },
    {
      "cell_type": "code",
      "execution_count": null,
      "metadata": {
        "id": "3YSK8sKQKMER"
      },
      "outputs": [],
      "source": [
        "# Define the H matrix - the Jacobian \n",
        "H = I\n",
        "print(H, H.shape)\n",
        "# Now estimate the resistance parameter.\n",
        "# R = ... \n",
        "R=np.matmul(H.T,H)\n",
        "print(R, R.shape)\n",
        "R=np.linalg.inv(R)\n",
        "R=np.matmul(R,H.T)\n",
        "R=np.matmul(R,V)\n",
        "print('The resistance is : ',R, R[0])"
      ]
    },
    {
      "cell_type": "code",
      "execution_count": null,
      "metadata": {
        "colab": {
          "base_uri": "https://localhost:8080/",
          "height": 279
        },
        "id": "F3-21vJCKMER",
        "outputId": "84fb753c-5877-45a9-9c0a-f4b4acd09419"
      },
      "outputs": [
        {
          "output_type": "display_data",
          "data": {
            "text/plain": [
              "<Figure size 432x288 with 1 Axes>"
            ],
            "image/png": "[encoded data removed]"
          },
          "metadata": {
            "needs_background": "light"
          }
        }
      ],
      "source": [
        "# Plot line.\n",
        "I_line = np.arange(0, 0.8, 0.1).reshape(8, 1)\n",
        "V_line = I_line*R\n",
        "\n",
        "plt.scatter(I, V)\n",
        "plt.plot(I_line, V_line)\n",
        "plt.xlabel('Current (A)')\n",
        "plt.ylabel('Voltage (V)')\n",
        "plt.grid(True)\n",
        "plt.show()"
      ]
    },
    {
      "cell_type": "code",
      "execution_count": null,
      "metadata": {
        "id": "wE-EJiVpKMER"
      },
      "outputs": [],
      "source": []
    },
    {
      "cell_type": "markdown",
      "metadata": {
        "id": "eMeCqrZCA5Qf"
      },
      "source": [
        "## Problem Statement - Two Parameters\n",
        "-----\n",
        "The measurements of voltage drop and the current are taken to measure the resistance using multimeter. Following data are collected:\n",
        "\n",
        "| Current (A) | Voltage (V) |\n",
        "|-------------|-------------|\n",
        "| 0.2         | 1.23        |*italicised text*\n",
        "| 0.3         | 1.30        |\n",
        "| 0.4         | 1.50|\n",
        "| 0.5         |1.70|\n",
        "| 0.6         | 2.2|\n",
        "\n",
        "Fit a line assuming the measurement model $V = IR + V_0$ using the method of least squares to evaluate the resistance."
      ]
    },
    {
      "cell_type": "code",
      "execution_count": null,
      "metadata": {
        "id": "Jtl_Xw0FA5Qj"
      },
      "outputs": [],
      "source": [
        "import numpy as np\n",
        "from numpy.linalg import inv\n",
        "import matplotlib.pyplot as plt\n",
        "\n",
        "# Store the voltage and current data as column vectors.\n",
        "I = np.array([[0.2, 0.3, 0.4, 0.5, 0.6]]).T\n",
        "V = np.array([[1.23, 1.30, 1.5, 1.7, 2.2]]).T"
      ]
    },
    {
      "cell_type": "code",
      "execution_count": null,
      "metadata": {
        "colab": {
          "base_uri": "https://localhost:8080/",
          "height": 279
        },
        "id": "HqiJWMgzA5Ql",
        "outputId": "1a096fc7-05f4-4192-a3d5-1d1608f60dd8"
      },
      "outputs": [
        {
          "output_type": "display_data",
          "data": {
            "text/plain": [
              "<Figure size 432x288 with 1 Axes>"
            ],
            "image/png": "[encoded data removed]"
          },
          "metadata": {
            "needs_background": "light"
          }
        }
      ],
      "source": [
        "plt.scatter(I, V)\n",
        "plt.xlabel('Current (A)')\n",
        "plt.ylabel('Voltage (V)')\n",
        "plt.grid(True)\n",
        "plt.show()"
      ]
    },
    {
      "cell_type": "markdown",
      "source": [
        "Now, in this case we have to compute the two parameters, $\\mathbf{R}$ and $\\mathbf{b}$. So we have $m=4; n=2$, where $m$ is number of observations and $n$ is the number of parameters.  \n",
        "It is also important to note that, the Jacobian matrix $\\mathbf{H}$ is not equal to $\\mathbf{I}$ but is of size $m × n$ and the elemts are given by the partial differentiation of measurement model with respect to the parameters."
      ],
      "metadata": {
        "id": "hmso6ZMmBvo-"
      }
    },
    {
      "cell_type": "markdown",
      "source": [
        "$ \\mathbf{H} = \\begin{pmatrix}\n",
        "\\frac{\\partial y_1}{\\partial R} & \\frac{\\partial y_1}{\\partial b} \\\\ \n",
        "\\frac{\\partial y_2}{\\partial R} & \\frac{\\partial y_2}{\\partial b} \\\\ \n",
        "\\frac{\\partial y_3}{\\partial R} & \\frac{\\partial y_3}{\\partial b} \\\\\n",
        "\\frac{\\partial y_4}{\\partial R} & \\frac{\\partial y_4}{\\partial b} \\\\\n",
        "\\frac{\\partial y_5}{\\partial R} & \\frac{\\partial y_5}{\\partial b} \\\\\n",
        "\\end{pmatrix}=\n",
        "\\begin{pmatrix}\n",
        "I_1 & 1 \\\\ \n",
        "I_2 & 1 \\\\ \n",
        "I_3 & 1 \\\\ \n",
        "I_4 & 1 \\\\ \n",
        "I_5 & 1 \\\\ \n",
        "\\end{pmatrix}$"
      ],
      "metadata": {
        "id": "MlX3kn4BEswJ"
      }
    },
    {
      "cell_type": "markdown",
      "metadata": {
        "id": "6y5Lnp-9A5Qm"
      },
      "source": [
        "## Least Square Formulation\n",
        "----\n",
        "From the Squared Error Criterion\n",
        "\n",
        "\\begin{align}\n",
        "\\hat{R} = \\left(\\mathbf{H}^T\\mathbf{H}\\right)^{-1}\\mathbf{H}^T\\mathbf{y}\n",
        "\\end{align}"
      ]
    },
    {
      "cell_type": "code",
      "execution_count": null,
      "metadata": {
        "id": "WJamZFYLA5Qn",
        "colab": {
          "base_uri": "https://localhost:8080/",
          "height": 511
        },
        "outputId": "0a10e589-ee02-487a-86e1-4507737be5d5"
      },
      "outputs": [
        {
          "output_type": "stream",
          "name": "stdout",
          "text": [
            "[[1. 1.]\n",
            " [1. 1.]\n",
            " [1. 1.]\n",
            " [1. 1.]\n",
            " [1. 1.]]\n",
            "[[0.2 1. ]\n",
            " [0.3 1. ]\n",
            " [0.4 1. ]\n",
            " [0.5 1. ]\n",
            " [0.6 1. ]]\n",
            "The slope and offset parameters of the best-fit line (i.e., the resistance and offset) are [R, b]:\n",
            "2.3400000000000003\n",
            "0.6500000000000001\n"
          ]
        },
        {
          "output_type": "display_data",
          "data": {
            "text/plain": [
              "<Figure size 432x288 with 1 Axes>"
            ],
            "image/png": "[encoded data removed]"
          },
          "metadata": {
            "needs_background": "light"
          }
        }
      ],
      "source": [
        "H = np.ones((5, 2))\n",
        "print(H)\n",
        "#Assign the values of the current in the first [index-0] column of the Jacobian matrix using the : operator\n",
        "H[:, 0] = I.T\n",
        "print(H)\n",
        "x_ls = inv(H.T.dot(H)).dot(H.T).dot(V)\n",
        "print('The slope and offset parameters of the best-fit line (i.e., the resistance and offset) are [R, b]:')\n",
        "print(x_ls[0,0])\n",
        "print(x_ls[1,0])\n",
        "\n",
        "# Plot line.\n",
        "I_line = np.arange(0, 0.8, 0.1).reshape(8, 1)\n",
        "V_line = x_ls[0,0]*I_line + x_ls[1,0]\n",
        "\n",
        "plt.scatter(I, V)\n",
        "plt.plot(I_line, V_line)\n",
        "plt.xlabel('Current (A)')\n",
        "plt.ylabel('Voltage (V)')\n",
        "plt.grid(True)\n",
        "plt.show()"
      ]
    }
  ],
  "metadata": {
    "kernelspec": {
      "display_name": "Python 3",
      "language": "python",
      "name": "python3"
    },
    "language_info": {
      "codemirror_mode": {
        "name": "ipython",
        "version": 3
      },
      "file_extension": ".py",
      "mimetype": "text/x-python",
      "name": "python",
      "nbconvert_exporter": "python",
      "pygments_lexer": "ipython3",
      "version": "3.8.5"
    },
    "colab": {
      "provenance": []
    }
  },
  "nbformat": 4,
  "nbformat_minor": 0
}