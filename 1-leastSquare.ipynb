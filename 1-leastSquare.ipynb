{
  "cells": [
    {
      "cell_type": "markdown",
      "source": [
        "#Least Square Estimation"
      ],
      "metadata": {
        "id": "RJ7CLAFxVoez"
      }
    },
    {
      "cell_type": "markdown",
      "source": [
        "The best estimation of a value is that which minimizes the sum of the squared errors between what we observed and what we expect.\n",
        "Let us consider the following measurements($\\mathbf{y}$) for estimating the parameters($\\mathbf{x}$):  \n",
        "$\\mathbf{y} = \\begin{bmatrix} y_1 & y_2 & y_3 & y_4 & y_5\\end{bmatrix}$  \n",
        "To handle this, we have to assume appropriate the measurement model. Let us consider linear model for the measurement as below:  \n",
        "$\\mathbf{y} = \\mathbf{H}x+\\mathbf{v}$.  \n",
        "where,  \n",
        "(i) $v$, is the measurement noise independent of each other such that $\\mathbf{v} \\sim \\mathcal{N}(μ, σ^2)$. The measurement noise is the idependent random variable having equal variance. These are considered as Independent Identically Distributed (IID). The IID means that each random variable follows the same probability distribution and all the variables are mutually independent. It means that the off diagonal elements of the covariance matrix are zero, so the covariance matrix of the measurement ($\\mathbf{R}$) may be written as:\n",
        "\n",
        "$ \\mathbf{R} = \\begin{pmatrix}\n",
        "\\sigma^2 & 0 &... & 0 \\\\ \n",
        "0 & \\sigma^2 & ... &0\\\\ \n",
        ".. & .. & ... &... \\\\ \n",
        "0 & 0 & ... & \\sigma^2 \\\\\n",
        "\\end{pmatrix}$\n",
        "\n",
        "(ii) $H$, slope for the linear model, in general, it is called the Jacobian and is obtained by partially differentiating the measurement model with respect to the parameters.\n",
        "The size of Jacobian matrix is $m\\times n$, where, $m$ is the number of measurement and the $n$ is the number of parameters."
      ],
      "metadata": {
        "id": "-BtyB0VCbnL6"
      }
    },
    {
      "cell_type": "markdown",
      "source": [
        "${y_1} =\\mathbf{H_1x}+v_1$  \n",
        "${y_2} =\\mathbf{H_2x}+v_2$  \n",
        "${y_3} =\\mathbf{H_3x}+v_3$  \n",
        "${y_4} =\\mathbf{H_4x}+v_4$  \n",
        "${y_5} =\\mathbf{H_5x}+v_5$  \n",
        "Let error may be defined as below:  \n",
        "${e_1} =y_1-\\mathbf{H_1x}$  \n",
        "${e_2} =y_2-\\mathbf{H_2x}$  \n",
        "${e_3} =y_3-\\mathbf{H_3x}$  \n",
        "${e_4} =y_4-\\mathbf{H_4x}$  \n",
        "${e_5} =y_5-\\mathbf{H_5x}$  \n",
        "\n",
        "Wring the error equations in the matrix form:  \n",
        "$\\mathbf{e}=\\mathbf{y}-\\mathbf{Hx}$.  \n",
        "In case, we are dealing with only one parameter, the $\\mathbf{x}$ would be scalar only and the size of $\\mathbf{H}$ would be $m\\times1$. Recall that $m$ is the number of measurements."
      ],
      "metadata": {
        "id": "x1VDoVObi04j"
      }
    },
    {
      "cell_type": "markdown",
      "source": [
        "According to LS method, the best estimate minimizes the sum of squared error, so,  \n",
        "$\\hat{\\mathbf{x}}_{LS} = arg min(e_1^2+e_2^2+e_3^2+e_4^2+e_5^2)$ \n",
        "\n",
        "The RHS is also known as squared error cost function or squared error criterion and can be written as:\n",
        "$ \\mathcal{L}_{LS}(x)=e_1^2+e_2^2+e_3^2+e_4^2+e_5^2 $.  \n",
        "In vector form,   \n",
        "$ \\mathcal{L}_{LS}(\\mathbf{x})=\\mathbf{e^Te}$.  \n",
        "Substituting for $\\mathbf{e}$, we get,   \n",
        "$ \\mathcal{L}_{LS}(\\mathbf{x})=\\mathbf{(y-Hx)^T(y-Hx)}$  \n",
        "$ \\mathcal{L}_{LS}(\\mathbf{x})=\\mathbf{(y^T-x^TH^T)(y-Hx)}$  \n",
        "$ \\mathcal{L}_{LS}(\\mathbf{x})=\\mathbf{(y^Ty-y^THx-x^TH^Ty-x^TH^THx)}$.   \n",
        "Differentiating with respect to $\\mathbf{x}$ and equating to zero, we get the best estimate of the $\\mathbf{x}$ as below:\n",
        "\n",
        "\\begin{align}\n",
        "\\hat{\\mathbf{x}} = \\left(\\mathbf{H}^T\\mathbf{H}\\right)^{-1}\\mathbf{H}^T\\mathbf{y}\n",
        "\\end{align}\n",
        "\n"
      ],
      "metadata": {
        "id": "g2AOPR8o-g9K"
      }
    },
    {
      "cell_type": "markdown",
      "metadata": {
        "id": "9u-r-YTtKMEM"
      },
      "source": [
        "### Example -1 One Parameters\n",
        "-----\n",
        "Estimate the resistance of an electrical component using a multimeter observations of voltage drop across the resistor at various current values. The voltage observations are tabulated below:\n",
        "\n",
        "| Current (A) | Voltage (V) |\n",
        "|-------------|-------------|\n",
        "| 0.2         | 1.23        |\n",
        "| 0.3         | 1.38        |\n",
        "| 0.4         | 2.06        |\n",
        "| 0.5         | 2.47        |\n",
        "| 0.6         | 3.17        |\n",
        "\n",
        "\n",
        "Fit a line assuming linear measurement model without intercept $V = IR$ using the method of least squares to evaluate the resistance."
      ]
    },
    {
      "cell_type": "markdown",
      "metadata": {
        "id": "G6MSBRx3KMEQ"
      },
      "source": [
        "### Estimating Resistance\n",
        "----\n",
        "\n",
        "Recall the linear measurement model and the parameter estimation $\\hat{x}$ are given by the following relations:\n",
        "\n",
        "\\begin{align}\n",
        "\\mathbf{y} = \\mathbf{H}x+\\mathbf{v}\\\n",
        "\\end{align}\n",
        "\n",
        "\\begin{align}\n",
        "\\hat{x} = \\left(\\mathbf{H}^T\\mathbf{H}\\right)^{-1}\\mathbf{H}^T\\mathbf{y}\n",
        "\\end{align}\n",
        "\n",
        "In case of present problem $\\mathbf{y=V}$ and $x=R$, for a resitance parameter using voltage and the current, our measurement model is given by:  \n",
        "\n",
        "\\begin{align}\n",
        "\\mathbf{V} = \\mathbf{I}R+\\mathbf{v}\\\n",
        "\\end{align}\n",
        "\n",
        "The best estimated resistance is given by:   \n",
        "\n",
        "\\begin{align}\n",
        "\\hat{R} = \\left(\\mathbf{I}^T\\mathbf{I}\\right)^{-1}\\mathbf{I}^T\\mathbf{y}\n",
        "\\end{align}\n",
        "\n",
        "where, $\\mathbf{H=I}$, the partial derivative of the measurement model with respect to the parameter."
      ]
    },
    {
      "cell_type": "code",
      "execution_count": 2,
      "metadata": {
        "colab": {
          "base_uri": "https://localhost:8080/"
        },
        "id": "EODIhWOMKMEO",
        "outputId": "b3bde43e-bc33-4f2f-870c-4fb8eb4f16b6"
      },
      "outputs": [
        {
          "output_type": "stream",
          "name": "stdout",
          "text": [
            "(5, 1) (5,)\n"
          ]
        }
      ],
      "source": [
        "import numpy as np\n",
        "from numpy.linalg import inv\n",
        "import matplotlib.pyplot as plt\n",
        "\n",
        "# Store the voltage and current data as column vectors. The shape of H has to be (5,1) not (5,)\n",
        "# Define the H matrix - the Jacobian \n",
        "\n",
        "H = np.array([[0.2, 0.3, 0.4, 0.5, 0.6]]).T #Remove one set of [] and try to estimate R\n",
        "#H = np.array([0.2, 0.3, 0.4, 0.5, 0.6]).reshape(5,1)\n",
        "V = np.array([1.23, 1.38, 2.06, 2.47, 3.17]).T\n",
        "print(H.shape, V.shape)"
      ]
    },
    {
      "cell_type": "code",
      "execution_count": null,
      "metadata": {
        "id": "s91T1exkKMEP"
      },
      "outputs": [],
      "source": [
        "plt.scatter(H, V)\n",
        "plt.xlabel('Current (A)')\n",
        "plt.ylabel('Voltage (V)')\n",
        "plt.grid(True)\n",
        "plt.show()"
      ]
    },
    {
      "cell_type": "code",
      "execution_count": null,
      "metadata": {
        "id": "3YSK8sKQKMER"
      },
      "outputs": [],
      "source": [
        "R=np.matmul(H.T,H)\n",
        "print(R, R.shape)\n",
        "R=np.linalg.inv(R)\n",
        "R=np.matmul(R,H.T)\n",
        "R=np.matmul(R,V)\n",
        "print('The resistance is : ',R, R[0])"
      ]
    },
    {
      "cell_type": "code",
      "execution_count": null,
      "metadata": {
        "id": "F3-21vJCKMER"
      },
      "outputs": [],
      "source": [
        "# Plot line.\n",
        "I_line = np.arange(0, 0.8, 0.1).reshape(8, 1)\n",
        "V_line = I_line*R\n",
        "\n",
        "#plt.scatter(H, V)\n",
        "plt.plot(I_line, V_line)\n",
        "plt.xlabel('Current (A)')\n",
        "plt.ylabel('Voltage (V)')\n",
        "plt.grid(True)\n",
        "plt.show()"
      ]
    },
    {
      "cell_type": "markdown",
      "metadata": {
        "id": "eMeCqrZCA5Qf"
      },
      "source": [
        "## Problem Statement - Two Parameters\n",
        "-----\n",
        "The measurements of voltage drop and the current are taken to measure the resistance using multimeter. Following data are collected:\n",
        "\n",
        "| Current (A) | Voltage (V) |\n",
        "|-------------|-------------|\n",
        "| 0.2         | 1.23        |*italicised text*\n",
        "| 0.3         | 1.30        |\n",
        "| 0.4         | 1.50|\n",
        "| 0.5         |1.70|\n",
        "| 0.6         | 2.2|\n",
        "\n",
        "Fit a line assuming linear measurement model with intercept $V = IR + V_0$ using the method of least squares to evaluate the resistance."
      ]
    },
    {
      "cell_type": "code",
      "execution_count": 6,
      "metadata": {
        "id": "Jtl_Xw0FA5Qj"
      },
      "outputs": [],
      "source": [
        "import numpy as np\n",
        "from numpy.linalg import inv\n",
        "import matplotlib.pyplot as plt\n",
        "\n",
        "# Store the voltage and current data as column vectors.\n",
        "I = np.array([[0.2, 0.3, 0.4, 0.5, 0.6]]).T\n",
        "V = np.array([[1.23, 1.30, 1.5, 1.7, 2.2]]).T"
      ]
    },
    {
      "cell_type": "code",
      "execution_count": null,
      "metadata": {
        "id": "HqiJWMgzA5Ql"
      },
      "outputs": [],
      "source": [
        "plt.scatter(I, V)\n",
        "plt.xlabel('Current (A)')\n",
        "plt.ylabel('Voltage (V)')\n",
        "plt.grid(True)\n",
        "plt.show()"
      ]
    },
    {
      "cell_type": "markdown",
      "source": [
        "Now, in this case we have to compute the two parameters, $\\mathbf{R}$ and $\\mathbf{b}$. So we have $m=5; n=2$, where $m$ is number of observations and $n$ is the number of parameters.  \n",
        "It is also important to note that, the Jacobian matrix $\\mathbf{H}$ is not equal to $\\mathbf{I}$ but is of size $m × n$ and the elemts are given by the partial differentiation of measurement model with respect to the parameters."
      ],
      "metadata": {
        "id": "hmso6ZMmBvo-"
      }
    },
    {
      "cell_type": "markdown",
      "source": [
        "$ \\mathbf{H} = \\begin{pmatrix}\n",
        "\\frac{\\partial y_1}{\\partial R} & \\frac{\\partial y_1}{\\partial b} \\\\ \n",
        "\\frac{\\partial y_2}{\\partial R} & \\frac{\\partial y_2}{\\partial b} \\\\ \n",
        "\\frac{\\partial y_3}{\\partial R} & \\frac{\\partial y_3}{\\partial b} \\\\\n",
        "\\frac{\\partial y_4}{\\partial R} & \\frac{\\partial y_4}{\\partial b} \\\\\n",
        "\\frac{\\partial y_5}{\\partial R} & \\frac{\\partial y_5}{\\partial b} \\\\\n",
        "\\end{pmatrix}=\n",
        "\\begin{pmatrix}\n",
        "I_1 & 1 \\\\ \n",
        "I_2 & 1 \\\\ \n",
        "I_3 & 1 \\\\ \n",
        "I_4 & 1 \\\\ \n",
        "I_5 & 1 \\\\ \n",
        "\\end{pmatrix}$"
      ],
      "metadata": {
        "id": "MlX3kn4BEswJ"
      }
    },
    {
      "cell_type": "markdown",
      "metadata": {
        "id": "6y5Lnp-9A5Qm"
      },
      "source": [
        "## Least Square Formulation\n",
        "----\n",
        "From the Squared Error Criterion\n",
        "\n",
        "\\begin{align}\n",
        "\\hat{R} = \\left(\\mathbf{H}^T\\mathbf{H}\\right)^{-1}\\mathbf{H}^T\\mathbf{y}\n",
        "\\end{align}"
      ]
    },
    {
      "cell_type": "code",
      "source": [
        "H = np.ones((5, 2))\n",
        "print(H)\n",
        "#Assign the values of the current in the first [index-0] column of the Jacobian matrix using the : operator\n",
        "H[:, 0] = I.T\n",
        "print(H)"
      ],
      "metadata": {
        "id": "eWdHgrwHkHvK"
      },
      "execution_count": null,
      "outputs": []
    },
    {
      "cell_type": "code",
      "execution_count": null,
      "metadata": {
        "id": "WJamZFYLA5Qn"
      },
      "outputs": [],
      "source": [
        "x_ls = inv(H.T.dot(H)).dot(H.T).dot(V)\n",
        "print('The slope and offset parameters of the best-fit line (i.e., the resistance and offset) are [R, b]:')\n",
        "print(x_ls[0,0])\n",
        "print(x_ls[1,0])"
      ]
    },
    {
      "cell_type": "code",
      "source": [
        "# Plot line.\n",
        "I_line = np.arange(0, 0.8, 0.1).reshape(8, 1)\n",
        "V_line = x_ls[0,0]*I_line + x_ls[1,0]\n",
        "\n",
        "plt.scatter(I, V)\n",
        "plt.plot(I_line, V_line)\n",
        "plt.xlabel('Current (A)')\n",
        "plt.ylabel('Voltage (V)')\n",
        "plt.grid(True)\n",
        "plt.show()"
      ],
      "metadata": {
        "id": "YpuSD1gUkmG9"
      },
      "execution_count": null,
      "outputs": []
    }
  ],
  "metadata": {
    "kernelspec": {
      "display_name": "Python 3",
      "language": "python",
      "name": "python3"
    },
    "language_info": {
      "codemirror_mode": {
        "name": "ipython",
        "version": 3
      },
      "file_extension": ".py",
      "mimetype": "text/x-python",
      "name": "python",
      "nbconvert_exporter": "python",
      "pygments_lexer": "ipython3",
      "version": "3.8.5"
    },
    "colab": {
      "provenance": []
    }
  },
  "nbformat": 4,
  "nbformat_minor": 0
}