{
  "nbformat": 4,
  "nbformat_minor": 0,
  "metadata": {
    "colab": {
      "provenance": [],
      "authorship_tag": "ABX9TyOAx6mVI5g//48SThMCpVO6",
      "include_colab_link": true
    },
    "kernelspec": {
      "name": "python3",
      "display_name": "Python 3"
    },
    "language_info": {
      "name": "python"
    }
  },
  "cells": [
    {
      "cell_type": "markdown",
      "metadata": {
        "id": "view-in-github",
        "colab_type": "text"
      },
      "source": [
        "<a href=\"https://colab.research.google.com/github/vkjadon/State-Estimation/blob/main/4-kalmanFilter.ipynb\" target=\"_parent\"><img src=\"https://colab.research.google.com/assets/colab-badge.svg\" alt=\"Open In Colab\"/></a>"
      ]
    },
    {
      "cell_type": "code",
      "execution_count": null,
      "metadata": {
        "id": "xS2M1szTL5xu"
      },
      "outputs": [],
      "source": []
    },
    {
      "cell_type": "markdown",
      "source": [
        "# Kalman filter: quick recap"
      ],
      "metadata": {
        "id": "QKJqyzLRL6dP"
      }
    },
    {
      "cell_type": "code",
      "source": [
        "%matplotlib inline\n",
        "import numpy as np\n",
        "import matplotlib.pyplot as plt"
      ],
      "metadata": {
        "id": "Zu1W4BWAL7DS"
      },
      "execution_count": 1,
      "outputs": []
    },
    {
      "cell_type": "markdown",
      "source": [
        "Kalman filter (KF) is one of the most used state estimation algorithms in robotics applications. We may already know the motion model of a robot that allows us to know how the state of the robot evolves over time given its initial state. However, we always have to deal with imperfect motion model for various reasons (e.g., imperfect parts, etc.). Although robots typically have various sensors to also help in estimating the state of the robot, sensors are also noisy. With Kalman filter, we can combine the prediction from our motion model with the sensor measurement to get a better state estimate.\n",
        "\n",
        "Remember the assumptions used in Kalman filter:\n",
        "1. Linear dynamics with Gaussian noise $\\mathbf{x}_{t} = A \\mathbf{x}_{t-1} + B \\mathbf{u}_{t-1} + \\mathbf{w}_{t}$ where $\\mathbf{w}_{t} \\sim \\mathcal{N}(0, Q)$\n",
        "2. Linear measurement model with Gaussian noise $\\mathbf{z}_t = H \\mathbf{x}_t + \\mathbf{n}_t$ where $\\mathbf{n}_t \\sim \\mathcal{N}(0, R)$\n",
        "3. Gaussian prior $bel(\\mathbf{x}_0) \\sim \\mathcal{N}(\\mu_0, \\Sigma_0)$\n",
        "\n",
        "In Kalman filter, there are two main steps that we need to perform. These are the prediction and update steps. We perform the prediction step to compute our new belief state after we apply a control signal $u_t$ to our robot following the motion model. After we apply a control signal $u_t$, we assume to have received a sensor measurement $z_t$, and we perform the update step to update the belief state based on the sensor measurement.\n",
        "\n",
        "Prediction step:\n",
        "1. $\\mu_{t|t-1} = A\\mu_{t-1|t-1} + B\\mathbf{u}_{t-1}$\n",
        "2. $\\Sigma_{t|t-1} = A\\Sigma_{t-1|t-1}A^T + Q$\n",
        "\n",
        "Update step:\n",
        "1. Get measurement $\\mathbf{z}_{t}$\n",
        "2. Compute mean and covariance of the prediction residual $\\delta_{\\mu} = \\mathbf{z}_{t} - H\\mu_{t|t-1}$ and $\\delta_{\\Sigma} = H \\Sigma_{t|t-1} H^T + R$\n",
        "3. Compute Kalman gain $K_{t} = \\Sigma_{t|t-1} H^T \\delta_{\\Sigma}^{-1}$\n",
        "4. Compute mean and covariance of the belief $\\mu_{t | t} = \\mu_{t | t-1} + K\\delta_{\\mu}$ and $\\Sigma_{t | t} = \\Sigma_{t|t-1} - KH\\Sigma_{t|t-1}$\n"
      ],
      "metadata": {
        "id": "SNlgwBBoMV45"
      }
    },
    {
      "cell_type": "code",
      "source": [],
      "metadata": {
        "id": "Df3LKQRGL7vq"
      },
      "execution_count": null,
      "outputs": []
    }
  ]
}