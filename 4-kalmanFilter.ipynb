{
  "nbformat": 4,
  "nbformat_minor": 0,
  "metadata": {
    "colab": {
      "provenance": [],
      "authorship_tag": "ABX9TyOSdCzRrdK4FXJZEhHxLUX8",
      "include_colab_link": true
    },
    "kernelspec": {
      "name": "python3",
      "display_name": "Python 3"
    },
    "language_info": {
      "name": "python"
    }
  },
  "cells": [
    {
      "cell_type": "markdown",
      "metadata": {
        "id": "view-in-github",
        "colab_type": "text"
      },
      "source": [
        "<a href=\"https://colab.research.google.com/github/vkjadon/State-Estimation/blob/main/4-kalmanFilter.ipynb\" target=\"_parent\"><img src=\"https://colab.research.google.com/assets/colab-badge.svg\" alt=\"Open In Colab\"/></a>"
      ]
    },
    {
      "cell_type": "markdown",
      "source": [
        "# Kalman filter"
      ],
      "metadata": {
        "id": "QKJqyzLRL6dP"
      }
    },
    {
      "cell_type": "markdown",
      "source": [
        "Kalman filter update the theoretically predicted state by taking into account the measured state and theoretically predicted state in appropriate proportion.  \n",
        "\n",
        "The state of the system is $\\mathbf{x}_k$; The state is defined by means and the variances of the various components of the state. So, we can write $\\mathbf{x}_k \\sim \\mathcal{N}(\\mathbf{\\mu_k}, \\mathbf{P_k})$.  \n",
        "\n",
        "The componets of the state would depends on the process of state model. In case of robot, the process or state model is the motion model. We can represent the motion model in terms of displacement and velocity state. In such case, the state components would be as below:\n",
        "* for 1D $ ~ x_k = \\begin{bmatrix} p_x \\\\ p^{'}_x\\end{bmatrix} $. \n",
        "\n",
        "* for 2D $ ~ x_k = \\begin{bmatrix} p_x \\\\ p_y \\\\ p^{'}_x \\\\ p^{'}_y\\end{bmatrix} $\n",
        "\n",
        "In case of mobile robot, the state is position and velocity, but it could be data about the amount of fluid in a tank, the temperature of a car engine, the position of a user’s finger on a touchpad, or any number of things you need to keep track of."
      ],
      "metadata": {
        "id": "6AAB21Jy6Gg1"
      }
    },
    {
      "cell_type": "markdown",
      "source": [
        "## KF Algorithm\n",
        "\n",
        "**Step-1: Initialize the parameter and covariance estimates**:\n",
        "\n",
        "----\n",
        "Initial states, $\\hat{\\mathbf{x}}_0 = E\\left[\\mathbf{x}\\right]$  \n",
        "\n",
        "Initial state covariance matrix, $\\mathbf{P}_0 = E\\left[(\\mathbf{x} - \\hat{\\mathbf{x}}_0)(\\mathbf{x} - \\hat{\\mathbf{x}}_0)^T\\right]$.  \n",
        "\n",
        "**Step-2: Assume process or motion model and predict the current state using previous estimate**:\n",
        "\n",
        "----\n",
        "$$\\mathbf{\\check{x}}_k = \\mathbf{F}\\mathbf{\\hat{x}}_{k-1}+\\mathbf{G}\\mathbf{u}_{k-1}+\\mathbf{w}_{k}$$ \n",
        "\n",
        "Where,   \n",
        "\n",
        "$\\mathbf{\\check{x}}_k$; Predicted State matrix using motion model (or process model) at $k^{th}$ time step.  \n",
        "\n",
        "$\\mathbf{\\hat{x}}_{k-1}$; Estimated State matrix using filter at $k^{th}$ time step or previous estimate of the state.  \n",
        "\n",
        "$\\mathbf{F}$; State transition matrix.  \n",
        "\n",
        "$\\mathbf{G}$; Input interaction matrix.  \n",
        "\n",
        "$\\mathbf{w}_k$; state noise of covariance $\\mathbf{Q}$. $\\mathbf{w}_k \\sim \\mathcal{N}(0, \\mathbf{Q})$\n",
        "\n",
        "\n",
        "$\\mathbf{\\check{x}}_k$ is the new best estimate made from previous best estimate ($\\mathbf{\\hat{x}}_{k-1}$), plus a corrections ($\\mathbf{F}$ and $\\mathbf{G}$) for known external influences ($\\mathbf{u}_{k-1}$)."
      ],
      "metadata": {
        "id": "_Yq0m8y7-F9W"
      }
    },
    {
      "cell_type": "markdown",
      "source": [
        "**Step-3: Calculate process or state covariance matrix using the previous process or state covariance and the given state noise covariance**:\n",
        "\n",
        "----\n",
        "$$\\mathbf{\\check{P}}_k = \\mathbf{F\\hat{P}_{k-1}F^T}+\\mathbf{Q}_k$$ \n",
        "\n",
        "Where,   \n",
        "\n",
        "$\\mathbf{\\check{P}}_k$; Predicted State covariance matrix at $k^{th}$ time step.  \n",
        "\n",
        "$\\mathbf{\\hat{P}}_{k-1}$; Estimated State covariance matrix at $(k-1)^{th}$ time step.  \n",
        "\n",
        "$\\mathbf{Q}$; State covariance matrix. \n",
        "\n",
        "And the new uncertainty ($\\mathbf{\\check{P}}_k$) is predicted from the old uncertainty ($\\mathbf{\\hat{P}}_{k-1}$), with some additional uncertainty from the environment($\\mathbf{Q}_k$)."
      ],
      "metadata": {
        "id": "8UC3tIIJEv2a"
      }
    },
    {
      "cell_type": "markdown",
      "source": [
        "**Step-4: Assume measurement model**:\n",
        "\n",
        "----\n",
        "$$\\mathbf{y}_k = \\mathbf{H}\\mathbf{x}_k+\\mathbf{v}_k$$\n",
        "\n",
        "Where,   \n",
        "\n",
        "$\\mathbf{y}_k$; New measurement at $k^{th}$ time step.  \n",
        "\n",
        "$\\mathbf{H}$; Measurement sensor-state interaction matrix. \n",
        "\n",
        "$\\mathbf{v}_k$; measurement noise of covariance $\\mathbf{R}$. i.e. $\\mathbf{v}_k \\sim \\mathcal{N}(0, \\mathbf{R})$"
      ],
      "metadata": {
        "id": "WTr7TpyKEsEY"
      }
    },
    {
      "cell_type": "markdown",
      "source": [
        "**Step-5: Calculate the Kalman gain matrix for every measurement k**:\n",
        "\n",
        "----\n",
        "  * Calculate the gain term: $$\\mathbf{K}_k = \\mathbf{\\check{P}}_{k}\\mathbf{H}\\left(\\mathbf{H}\\mathbf{\\check{P}}_k\\mathbf{H}^T + \\mathbf{R}\\right)^{-1}$$   "
      ],
      "metadata": {
        "id": "B_8YA0kiHXfm"
      }
    },
    {
      "cell_type": "markdown",
      "source": [
        "**Step-6: Update estimate of the state $\\mathbf{\\hat{x}_k}$ and state covariance $\\mathbf{P}_k$ for every measurement k**:\n",
        "\n",
        "----\n",
        "  * Update the state estimate: $$\\hat{\\mathbf{x}}_k = \\check{\\mathbf{x}}_k + \\mathbf{K}_k\\left(\\mathbf{y}_k - \\mathbf{H}\\check{\\mathbf{x}}_k\\right)$$\n",
        "\n",
        "  * Update the state covariance estimate: $$\\mathbf{\\hat{P}}_k = \\left(\\mathbf{I} - \\mathbf{K}_k\\mathbf{H}\\right)\\mathbf{\\check{P}}_{k-1}$$"
      ],
      "metadata": {
        "id": "9Nu7gHmLNqHc"
      }
    },
    {
      "cell_type": "code",
      "source": [
        "%matplotlib inline\n",
        "import numpy as np\n",
        "import matplotlib.pyplot as plt"
      ],
      "metadata": {
        "id": "Zu1W4BWAL7DS"
      },
      "execution_count": null,
      "outputs": []
    },
    {
      "cell_type": "markdown",
      "source": [
        "**Example 1: estimating robot position with KF**\n",
        "\n",
        "We have a robot equipped with sensors to directly measure the $(x,y)$ location of the robot in the room. The state of the robot is its $x$ and $y$ position in the room, and the control inputs are the velocity in each direction $v_x$ and $v_y$. The following matrices are given.\n",
        "\n",
        "$F = \\begin{bmatrix} 1 & 0 \\\\ 0 & 1 \\end{bmatrix} $\n",
        "\n",
        "$ G =  \\begin{bmatrix} 1 & 0 \\\\ 0 & 1 \\end{bmatrix} $\n",
        "\n",
        "$ Q =  \\begin{bmatrix} 0.3 & 0 \\\\ 0 & 0.3 \\end{bmatrix} $\n",
        "\n",
        "$ H =  \\begin{bmatrix} 1 & 0 \\\\ 0 & 1 \\end{bmatrix} $\n",
        "\n",
        "$ R =  \\begin{bmatrix} 0.75 & 0.0 \\\\ 0.0 & 0.6 \\end{bmatrix} $\n",
        "\n",
        "The robot is initialized at $(x,y) = (0,0)$, and moves by applying constant control inputs $v_x = v_y = 1$ for 10 time steps. Assume the initial belief state as the following:\n",
        "\n",
        "$$ x_0 =  \\begin{bmatrix} 0 \\\\ 0 \\end{bmatrix} $$\n",
        "\n",
        "$$ P_0 =  \\begin{bmatrix} 0.1 & 0\\\\ 0 & 0.1 \\end{bmatrix} $$\n",
        "\n",
        "Task: use Kalman filter to get a better estimate of where the robot is at each time step!"
      ],
      "metadata": {
        "id": "1n715_SsNx5j"
      }
    },
    {
      "cell_type": "markdown",
      "source": [
        "**Understanding the problem**\n",
        "\n",
        "To understand the problem and motivate our desire to use Kalman filter, let's plot and compare the ideal trajectory with motion model trajectory as well as some possible measurements that we would get using the available sensors according to their specifications. Since we are not using an actual robot with a sensor, we will simulate the sensor measurements using the measurement model."
      ],
      "metadata": {
        "id": "dXHrwNf0N3_g"
      }
    },
    {
      "cell_type": "code",
      "source": [
        "# state = [x_pos, y_pos]\n",
        "num_steps = 10\n",
        "ground_truth_xs = np.linspace(0, 10, num=num_steps + 1) # [0, 1, ..., 10]\n",
        "ground_truth_ys = ground_truth_xs.copy() # x = y\n",
        "ground_truth_states = np.stack((ground_truth_xs,ground_truth_ys), axis=1) # ground_truth_states is [[0,0], [1,1], ..., [10,10]]\n",
        "\n",
        "\n",
        "# Simulate motion with our noisy motion model\n",
        "x_0, y_0 = 0, 0 # given initial position at (0,0)\n",
        "motion_states = [np.array([x_0, y_0])] # a list to store state at each step following noisy motion model\n",
        "u_t = np.array([1.0, 1.0]) # given constant control input\n",
        "A = np.array([[1, 0],\n",
        "              [0, 1]])\n",
        "B = np.array([[1, 0],\n",
        "              [0, 1]])\n",
        "Q = np.array([[0.3, 0],\n",
        "              [0, 0.3]]) # given Q matrix\n",
        "for _ in range(10):\n",
        "    motion_noise = np.random.multivariate_normal(mean=np.array([0,0]), cov=Q) # ~N(0,Q)\n",
        "    new_state = A @ motion_states[-1] + B @ u_t + motion_noise # note: a @ b = np.dot(a,b)\n",
        "    motion_states.append(new_state)\n",
        "    \n",
        "    \n",
        "# Simulate measurements with our noisy measurement model\n",
        "# In real life, we are supposed to get these directly from our sensor\n",
        "measurement_states = [np.array([x_0, y_0])] # # a list to store state at each step following noisy measurement model, assume we have perfect initial measurement\n",
        "H = np.array([[1, 0],\n",
        "              [0, 1]]) # given H matrix\n",
        "R = np.array([[0.75, 0],\n",
        "              [0, 0.6]]) # given R matrix\n",
        "for i in range(10):\n",
        "    measurement_noise = np.random.multivariate_normal(mean=np.array([0,0]), cov=R) # ~N(0,R)\n",
        "    new_measurement = H @ ground_truth_states[i+1] + measurement_noise # this is z_t\n",
        "    measurement_states.append(new_measurement)\n",
        "\n",
        "    \n",
        "# Convert motion_states and measurement_states to array so we can plot them easily\n",
        "motion_states = np.array(motion_states)\n",
        "measurement_states = np.array(measurement_states)\n",
        "\n",
        "\n",
        "# Compare ground truth and measurements\n",
        "plt.plot(ground_truth_states[:,0], ground_truth_states[:,1])\n",
        "plt.plot(motion_states[:,0], motion_states[:,1])\n",
        "plt.plot(measurement_states[:,0], measurement_states[:,1])\n",
        "plt.xlim(-1,12)\n",
        "plt.ylim(-1,12)\n",
        "plt.xlabel('x position')\n",
        "plt.ylabel('y position')\n",
        "plt.legend(['ground truth', 'motion model', 'measurements'])\n",
        "plt.gca().set_aspect('equal', adjustable='box')\n",
        "plt.show()"
      ],
      "metadata": {
        "id": "VcUrOkhJNyhN",
        "outputId": "150b1197-5ebc-4686-99b4-d25340ef00de",
        "colab": {
          "base_uri": "https://localhost:8080/",
          "height": 283
        }
      },
      "execution_count": null,
      "outputs": [
        {
          "output_type": "display_data",
          "data": {
            "text/plain": [
              "<Figure size 432x288 with 1 Axes>"
            ],
            "image/png": "[encoded data removed]"
          },
          "metadata": {
            "needs_background": "light"
          }
        }
      ]
    },
    {
      "cell_type": "markdown",
      "source": [
        "As we can see, estimating states using noisy motion model and sensor measurement alone produces noisy state estimates. With Kalman filter, we can get a better state estimates by combining the prediction from motion model and sensor measurements.\n",
        "\n",
        "Let's implement the Kalman filter! Concretely, we just need to write two functions for the prediction and update steps, and to know when to call these functions."
      ],
      "metadata": {
        "id": "bMZthDq8OF7B"
      }
    },
    {
      "cell_type": "markdown",
      "source": [
        "**Prediction step**\n",
        "\n",
        "Recall the prediction step:\n",
        "1. $\\mu_{t|t-1} = A\\mu_{t-1|t-1} + B\\mathbf{u}_{t-1}$\n",
        "2. $\\Sigma_{t|t-1} = A\\Sigma_{t-1|t-1}A^T + Q$"
      ],
      "metadata": {
        "id": "ieGW3XBPOSR9"
      }
    },
    {
      "cell_type": "code",
      "source": [
        "def predict(A, B, Q, u_t, mu_t, Sigma_t):\n",
        "    predicted_mu = A @ mu_t + B @ u_t\n",
        "    predicted_Sigma = A @ Sigma_t @ A.T + Q\n",
        "    return predicted_mu, predicted_Sigma"
      ],
      "metadata": {
        "id": "j9Ci0SymOGel"
      },
      "execution_count": null,
      "outputs": []
    },
    {
      "cell_type": "markdown",
      "source": [
        "**Update step**\n",
        "\n",
        "Recall the update step:\n",
        "1. Get measurement $\\mathbf{z}_{t}$\n",
        "2. Compute mean and covariance of the prediction residual $\\delta_{\\mu} = \\mathbf{z}_{t} - H\\mu_{t|t-1}$ and $\\delta_{\\Sigma} = H \\Sigma_{t|t-1} H^T + R$\n",
        "3. Compute Kalman gain $K_{t} = \\Sigma_{t|t-1} H^T \\delta_{\\Sigma}^{-1}$\n",
        "4. Compute mean and covariance of the belief $\\mu_{t | t} = \\mu_{t | t-1} + K\\delta_{\\mu}$ and $\\Sigma_{t | t} = \\Sigma_{t|t-1} - KH\\Sigma_{t|t-1}$"
      ],
      "metadata": {
        "id": "5w9BKUfhOb1d"
      }
    },
    {
      "cell_type": "code",
      "source": [
        "def update(H, R, z, predicted_mu, predicted_Sigma):\n",
        "    residual_mean = z - H @ predicted_mu\n",
        "    residual_covariance = H @ predicted_Sigma @ H.T + R\n",
        "    kalman_gain = predicted_Sigma @ H.T @ np.linalg.inv(residual_covariance)\n",
        "    updated_mu = predicted_mu + kalman_gain @ residual_mean\n",
        "    updated_Sigma = predicted_Sigma - kalman_gain @ H @ predicted_Sigma\n",
        "    return updated_mu, updated_Sigma"
      ],
      "metadata": {
        "id": "rCPoWQS4OWTY"
      },
      "execution_count": null,
      "outputs": []
    },
    {
      "cell_type": "markdown",
      "source": [
        "Let's now run our Kalman filter for 10 time steps!"
      ],
      "metadata": {
        "id": "13mADtK4Oi3N"
      }
    },
    {
      "cell_type": "code",
      "source": [
        "# Re-initialize the problem with the given information\n",
        "mu_0 = np.array([0, 0])\n",
        "Sigma_0 = np.array([[0.1, 0],\n",
        "                     [0, 0.1]])\n",
        "u_t = np.array([1, 1]) # we assume constant control input\n",
        "\n",
        "A = np.array([[1, 0],\n",
        "              [0, 1]])\n",
        "B = np.array([[1, 0],\n",
        "              [0, 1]])\n",
        "Q = np.array([[0.3, 0],\n",
        "              [0, 0.3]])\n",
        "H = np.array([[1, 0],\n",
        "              [0, 1]])\n",
        "R = np.array([[0.75, 0],\n",
        "              [0, 0.6]])\n",
        "\n",
        "# Initialize empty lists to store the filtered states and measurements for plotting\n",
        "measurement_states = []\n",
        "filtered_states = []\n",
        "\n",
        "# Run KF for each time step\n",
        "mu_current = mu_0.copy()\n",
        "Sigma_current = Sigma_0.copy()\n",
        "for i in range(num_steps):\n",
        "    \n",
        "    # Predict step\n",
        "    predicted_mu, predicted_Sigma = predict(A, B, Q, u_t, mu_current, Sigma_current)\n",
        "    \n",
        "    # Get measurement (in real life, we get this from our sensor)    \n",
        "    measurement_noise = np.random.multivariate_normal(mean=np.array([0,0]), cov=R) # ~N(0,R)\n",
        "    new_measurement = H @ ground_truth_states[i+1] + measurement_noise # this is z_t\n",
        "    \n",
        "    # The rest of update step\n",
        "    mu_current, Sigma_current = update(H, R, new_measurement, predicted_mu, predicted_Sigma)\n",
        "    \n",
        "    # Store measurements and mu_current so we can plot it later\n",
        "    measurement_states.append(new_measurement)\n",
        "    filtered_states.append(mu_current)\n",
        "\n",
        "# For plotting purposes, convert the lists to array\n",
        "measurement_states = np.array(measurement_states)\n",
        "filtered_states = np.array(filtered_states) "
      ],
      "metadata": {
        "id": "C8tx6xl8OfEe"
      },
      "execution_count": null,
      "outputs": []
    },
    {
      "cell_type": "code",
      "source": [
        "# Let's plot the results\n",
        "\n",
        "plt.plot(ground_truth_states[:,0], ground_truth_states[:,1]) # from previous section\n",
        "plt.plot(motion_states[:,0], motion_states[:,1]) # from previous section\n",
        "plt.plot(measurement_states[:,0], measurement_states[:,1])\n",
        "plt.plot(filtered_states[:,0], filtered_states[:,1])\n",
        "plt.xlim(-1,12)\n",
        "plt.ylim(-1,12)\n",
        "plt.xlabel('x position')\n",
        "plt.ylabel('y position')\n",
        "plt.legend(['ground truth', 'motion model', 'measurements', 'KF'])\n",
        "plt.gca().set_aspect('equal', adjustable='box')\n",
        "plt.show()"
      ],
      "metadata": {
        "id": "JKsutu7jOnc_",
        "outputId": "9e26b5d2-62b0-4e31-e2f4-c743e8d92e0d",
        "colab": {
          "base_uri": "https://localhost:8080/",
          "height": 283
        }
      },
      "execution_count": null,
      "outputs": [
        {
          "output_type": "display_data",
          "data": {
            "text/plain": [
              "<Figure size 432x288 with 1 Axes>"
            ],
            "image/png": "[encoded data removed]"
          },
          "metadata": {
            "needs_background": "light"
          }
        }
      ]
    },
    {
      "cell_type": "code",
      "source": [],
      "metadata": {
        "id": "_0EFI_9rOuiM"
      },
      "execution_count": null,
      "outputs": []
    }
  ]
}