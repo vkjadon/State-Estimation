{
  "cells": [
    {
      "cell_type": "markdown",
      "metadata": {
        "id": "H-wXjA44UNfE"
      },
      "source": [
        "## Problem Statement - RLS\n",
        "----\n",
        "Following data collected at equal time interval\n",
        "\n",
        "| Current (A) | Voltage (V) |\n",
        "|-------------|-------------|\n",
        "| 0.2         | 1.23        |\n",
        "| 0.3         | 1.38        |\n",
        "| 0.4         | 2.06        |\n",
        "| 0.5         | 2.47        |\n",
        "| 0.6         | 3.17        |\n",
        "\n",
        "Fit a linear model $V = RI + b$ using recursive LS and compare with batch solution.\n",
        "\n",
        "It is also given that the current values are known exactly, and that the voltage measurements are corrupted by additive, independent and identitically distributed zero-mean Gaussian noise with a standard deviation of $0.15~V$ (i.e., a variance of $0.0225 ~ V^2$).\n",
        "\n",
        "## Python Code\n",
        "----\n",
        "As before, the first step is to import the neccesary Python modules and load the current values and voltage measurements into NumPy arrays:"
      ]
    },
    {
      "cell_type": "code",
      "execution_count": 6,
      "metadata": {
        "id": "VB2kY07GUNfG"
      },
      "outputs": [],
      "source": [
        "import numpy as np\n",
        "from numpy.linalg import inv\n",
        "import matplotlib.pyplot as plt"
      ]
    },
    {
      "cell_type": "markdown",
      "metadata": {
        "id": "F2tjvEbRUNfI"
      },
      "source": [
        "Assume $\\hat{R}$ follows a Gaussian or normal distribution with a mean of $4~\\Omega$ and a standard deviation of $3~ \\Omega$ (i.e., a variance of $9~\\Omega^{2}$). \n",
        "Similarly, your intial guess is that $\\hat{b}$ should also follow a normal distribution with a mean of $0~V$ and a variance of $0.2~V^{2}$.\n",
        "\n",
        "$$\\hat{R} \\sim \\mathcal{N}(4, 9.0),~~\\hat{b} \\sim \\mathcal{N}(0, 0.2)$$"
      ]
    },
    {
      "cell_type": "code",
      "execution_count": 7,
      "metadata": {
        "id": "LnBY7sVSUNfI",
        "outputId": "a2d7fae7-cb63-4143-c0fa-2d513a913936",
        "colab": {
          "base_uri": "https://localhost:8080/"
        }
      },
      "outputs": [
        {
          "output_type": "stream",
          "name": "stdout",
          "text": [
            "Current \n",
            " [[0.2]\n",
            " [0.3]\n",
            " [0.4]\n",
            " [0.5]\n",
            " [0.6]] \n",
            "Voltage \n",
            " [[1.23]\n",
            " [1.38]\n",
            " [2.06]\n",
            " [2.47]\n",
            " [3.17]]\n"
          ]
        }
      ],
      "source": [
        "I = np.array([[0.2, 0.3, 0.4, 0.5, 0.6]]).T\n",
        "V = np.array([[1.23, 1.38, 2.06, 2.47, 3.17]]).T\n",
        "print(\"Current \\n\",I,\"\\nVoltage \\n\", V)"
      ]
    },
    {
      "cell_type": "code",
      "execution_count": 8,
      "metadata": {
        "id": "6gMthuGoUNfJ",
        "outputId": "d9b74ad9-a03b-402b-e54c-039136901b72",
        "colab": {
          "base_uri": "https://localhost:8080/",
          "height": 282
        }
      },
      "outputs": [
        {
          "output_type": "display_data",
          "data": {
            "text/plain": [
              "<Figure size 432x288 with 1 Axes>"
            ],
            "image/png": "[encoded data removed]"
          },
          "metadata": {
            "needs_background": "light"
          }
        }
      ],
      "source": [
        "plt.scatter(I, V)\n",
        "plt.xlabel('Current (A)')\n",
        "plt.ylabel('Voltage (V)')\n",
        "plt.grid(True)\n",
        "plt.show()"
      ]
    },
    {
      "cell_type": "markdown",
      "metadata": {
        "id": "vyUDQYmoUNfJ"
      },
      "source": [
        "## Estimating the Slope and Offset Parameters\n",
        "----\n",
        "### Batch Estimator\n",
        "Before implementing the recursive least squares estimator, let's examine the parameter estimates given by the batch least squares method used in the previous assignment. This time, you will be fitting a model which contains an offset $y = Rx + b$. This result can be used later for comparison."
      ]
    },
    {
      "cell_type": "code",
      "execution_count": 9,
      "metadata": {
        "scrolled": true,
        "id": "QNp8vaa9UNfK",
        "outputId": "cb64b4f4-4c10-4b2e-e34f-2c1c45f43105",
        "colab": {
          "base_uri": "https://localhost:8080/",
          "height": 333
        }
      },
      "outputs": [
        {
          "output_type": "stream",
          "name": "stdout",
          "text": [
            "The slope and offset parameters of the best-fit line (i.e., the resistance and offset) are [R, b]:\n",
            "4.970000000000001\n",
            "0.07400000000000051\n"
          ]
        },
        {
          "output_type": "display_data",
          "data": {
            "text/plain": [
              "<Figure size 432x288 with 1 Axes>"
            ],
            "image/png": "[encoded data removed]"
          },
          "metadata": {
            "needs_background": "light"
          }
        }
      ],
      "source": [
        "## Batch Solution\n",
        "# X(LS)=Inv(H_Transpose.H)(H_Transpose)(y)\n",
        "\n",
        "H = np.ones((5, 2))\n",
        "H[:, 0] = I.T\n",
        "#print(H)\n",
        "x_ls = inv(H.T.dot(H)).dot(H.T).dot(V)\n",
        "print('The slope and offset parameters of the best-fit line (i.e., the resistance and offset) are [R, b]:')\n",
        "print(x_ls[0,0])\n",
        "print(x_ls[1,0])\n",
        "\n",
        "# Plot line.\n",
        "I_line = np.arange(0, 0.8, 0.1).reshape(8, 1) #Range taken from the given data (0.2 to 0.8 in this case)\n",
        "V_line = x_ls[0,0]*I_line + x_ls[1,0] #V=R*I+b size of I\n",
        "\n",
        "plt.scatter(I, V)\n",
        "plt.plot(I_line, V_line)\n",
        "plt.xlabel('Current (A)')\n",
        "plt.ylabel('Voltage (V)')\n",
        "plt.grid(True)\n",
        "plt.show()"
      ]
    },
    {
      "cell_type": "markdown",
      "metadata": {
        "id": "oHDbQfV8UNfL"
      },
      "source": [
        "As expected, the offset parameter $\\hat{b}$ is near zero, while $\\hat{R}$ closely approximates the true resistance value of $R = 5~\\Omega$."
      ]
    },
    {
      "cell_type": "markdown",
      "metadata": {
        "id": "yS2zflcDUNfL"
      },
      "source": [
        "### Recursive Estimator\n",
        "\n",
        "**Initialize the parameter and covariance estimates**:\n",
        "\n",
        "----\n",
        "$$\n",
        "\\hat{\\mathbf{x}}_0 = E\\left[\\mathbf{x}\\right],\\quad \\mathbf{P}_0 = E\\left[(\\mathbf{x} - \\hat{\\mathbf{x}}_0)(\\mathbf{x} - \\hat{\\mathbf{x}}_0)^T\\right]\n",
        "$$"
      ]
    },
    {
      "cell_type": "code",
      "execution_count": 10,
      "metadata": {
        "id": "CY6jVZgRUNfL",
        "outputId": "1a38f61c-4136-4c15-fc3e-57f8f7867f74",
        "colab": {
          "base_uri": "https://localhost:8080/"
        }
      },
      "outputs": [
        {
          "output_type": "stream",
          "name": "stdout",
          "text": [
            "X  [[4. 0.]\n",
            " [0. 0.]\n",
            " [0. 0.]\n",
            " [0. 0.]\n",
            " [0. 0.]\n",
            " [0. 0.]]\n"
          ]
        }
      ],
      "source": [
        "## Recursive Solution\n",
        "\n",
        "# Assume initial values of the state [2x1] R and b.\n",
        "x_k=np.array([[4.0], [0.0]])\n",
        "#print(x_k)\n",
        "\n",
        "#Assume initial Process Covariance matrix [2x2]. Off-diangonal be zeros.\n",
        "P_k=np.array([[9.0, 0], [0, 0.2]])\n",
        "\n",
        "# Our voltage measurement variance (denoted by R, don't confuse with resistance).\n",
        "R_k = np.array([[0.0225]])\n",
        "#print(x_k, P_k, R_k)\n",
        "\n",
        "# Initialize the matrices to store estimates after every step.\n",
        "num_meas = I.shape[0] # Try I.shape\n",
        "#print (\"Count \", num_meas) \n",
        "\n",
        "x = np.zeros((num_meas + 1, 2)) # +1 to store initial matrix\n",
        "P = np.zeros((num_meas + 1, 2, 2)) # +1 to store initial matrix\n",
        "#print(\"Shape of x\", x.shape, \"\\n X matrix \\n\",x)\n",
        "#print(\"Shape of P\", P.shape, \"\\n P matrix \\n\",P)\n",
        "\n",
        "# Assign initial x_k (k=0) to first row of x matrix. Let us check the shape\n",
        "#print(\"Shape of x \", x.shape, \", x_k matrix \",x_k.shape, \" and Transpose of x_k \", x_k.T.shape)\n",
        "\n",
        "x[0] = x_k.T\n",
        "P[0] = P_k\n",
        "print(\"X \",x)\n",
        "\n"
      ]
    },
    {
      "cell_type": "markdown",
      "metadata": {
        "id": "2TY9Z3W-UNfM"
      },
      "source": [
        "**For every measurement k**:\n",
        "\n",
        "----\n",
        "  * Calculate the gain term: $$\\mathbf{K}_k = \\mathbf{P}_{k-1}\\mathbf{H}_k^T\\left(\\mathbf{H}_k\\mathbf{P}_{k-1}\\mathbf{H}_k^T + \\mathbf{R}_k\\right)^{-1}$$\n",
        "  * Update the parameter estimate: $$\\hat{\\mathbf{x}}_k = \\hat{\\mathbf{x}}_{k-1} + \\mathbf{K}_k\\left(\\mathbf{y}_k - \\mathbf{H}_k\\hat{\\mathbf{x}}_{k-1}\\right)$$\n",
        "  * Update the covariance estimate: $$\\mathbf{P}_k = \\left(\\mathbf{I} - \\mathbf{K}_k\\mathbf{H}_k\\right)\\mathbf{P}_{k-1}$$\n",
        "  \n",
        "In this case, the initial parameter vector $\\hat{\\mathbf{x}}_0$ should contain $\\hat{R}$ and $\\hat{b}$. "
      ]
    },
    {
      "cell_type": "code",
      "execution_count": 11,
      "metadata": {
        "id": "ySVcluNdUNfM",
        "outputId": "65754869-5f9d-47f1-fb64-45999934b3c8",
        "colab": {
          "base_uri": "https://localhost:8080/"
        }
      },
      "outputs": [
        {
          "output_type": "stream",
          "name": "stdout",
          "text": [
            "The slope and offset parameters of the best-fit line (i.e., the resistance and offset) are [R, b]:\n",
            "5.078171344233823\n",
            "0.11979681602598038\n"
          ]
        }
      ],
      "source": [
        "# Iterate over all the available measurements.\n",
        "for k in range(num_meas):\n",
        "    # Construct H_k (Jacobian).\n",
        "    H_k = np.array([H[k]])\n",
        "    #print(\"Hk\",H_k)\n",
        "\n",
        "    # Construct K_k (gain matrix). \n",
        "    K_k=P_k.dot(H_k.T).dot(inv(H_k.dot(P_k.dot(H_k.T))+R_k))\n",
        "    #print(K_k)\n",
        "    \n",
        "    # Update our estimate.\n",
        "    x_k = x_k+K_k.dot(V[k]-H_k.dot(x_k))\n",
        " \n",
        "    # Update uncertainty (covariance) of the Process/Model \n",
        "    P_k = K_k.dot(H_k)\n",
        "    #print(P_k)\n",
        "    \n",
        "    # Store the intermediate result of Resistance and Intercept.\n",
        "    P[k + 1] = P_k\n",
        "    x[k + 1] = x_k.T\n",
        "    #print(x_k)\n",
        "    \n",
        "print('The slope and offset parameters of the best-fit line (i.e., the resistance and offset) are [R, b]:')\n",
        "print(x_k[0, 0])\n",
        "print(x_k[1, 0])\n",
        "#print(P)"
      ]
    },
    {
      "cell_type": "code",
      "execution_count": 12,
      "metadata": {
        "id": "O4lz3oonUNfM",
        "outputId": "11ceb10c-53cd-44b4-d09a-31c93efc216e",
        "colab": {
          "base_uri": "https://localhost:8080/",
          "height": 280
        }
      },
      "outputs": [
        {
          "output_type": "display_data",
          "data": {
            "text/plain": [
              "<Figure size 432x288 with 1 Axes>"
            ],
            "image/png": "[encoded data removed]"
          },
          "metadata": {
            "needs_background": "light"
          }
        }
      ],
      "source": [
        "plt.scatter(I, V, label='Data')\n",
        "plt.plot(I_line, V_line, label='Batch Solution')\n",
        "plt.xlabel('Current (A)')\n",
        "plt.ylabel('Voltage (V)')\n",
        "plt.grid(True)\n",
        "\n",
        "I_line = np.arange(0, 0.8, 0.1).reshape(8, 1)\n",
        "\n",
        "for k in range(num_meas):\n",
        "    V_line = x[k, 0]*I_line + x[k, 1]\n",
        "    plt.plot(I_line, V_line, label='Measurement {}'.format(k))\n",
        "plt.legend()\n",
        "plt.show()"
      ]
    },
    {
      "cell_type": "code",
      "execution_count": null,
      "metadata": {
        "id": "-AFVUf0FUNfN"
      },
      "outputs": [],
      "source": []
    }
  ],
  "metadata": {
    "kernelspec": {
      "display_name": "Python 3",
      "language": "python",
      "name": "python3"
    },
    "language_info": {
      "codemirror_mode": {
        "name": "ipython",
        "version": 3
      },
      "file_extension": ".py",
      "mimetype": "text/x-python",
      "name": "python",
      "nbconvert_exporter": "python",
      "pygments_lexer": "ipython3",
      "version": "3.8.8"
    },
    "colab": {
      "provenance": []
    }
  },
  "nbformat": 4,
  "nbformat_minor": 0
}