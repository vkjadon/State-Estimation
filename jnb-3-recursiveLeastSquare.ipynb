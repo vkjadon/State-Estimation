{
  "cells": [
    {
      "cell_type": "markdown",
      "source": [
        "#Recursive Least Square Method"
      ],
      "metadata": {
        "id": "jkts7mruQ8ZW"
      }
    },
    {
      "cell_type": "markdown",
      "source": [
        "LS or WLS uses entire dataset to find the best estimate, whereas, we do not use the entire set of the data but use earlier calculated estimate and the additional data. "
      ],
      "metadata": {
        "id": "7WqoMhK3RY2V"
      }
    },
    {
      "cell_type": "markdown",
      "source": [
        "## RLS Algorithm\n",
        "\n",
        "**Step-1: Initialize the parameter and covariance estimates**:\n",
        "\n",
        "----\n",
        "Initial states, $\\hat{\\mathbf{x}}_0 = E\\left[\\mathbf{x}\\right]$  \n",
        "\n",
        "Initial state covariance matrix, $\\mathbf{P}_0 = E\\left[(\\mathbf{x} - \\hat{\\mathbf{x}}_0)(\\mathbf{x} - \\hat{\\mathbf{x}}_0)^T\\right]$.  \n",
        "\n",
        "**Step-2: Assume measurement model**:\n",
        "\n",
        "----\n",
        "$$\\mathbf{y}_k = \\mathbf{H}_k\\mathbf{x}+\\mathbf{v}_k$$\n",
        "\n",
        "**Step-3: Calculate the gain matrix for every measurement k**:\n",
        "\n",
        "----\n",
        "  * Calculate the gain term: $$\\mathbf{K}_k = \\mathbf{P}_{k-1}\\mathbf{H}_k^T\\left(\\mathbf{H}_k\\mathbf{P}_{k-1}\\mathbf{H}_k^T + \\mathbf{R}_k\\right)^{-1}$$   \n",
        "\n",
        "**Step-4: Update estimate of the state $\\mathbf{\\hat{x}_k}$ and state covariance $\\mathbf{P}_k$ for every measurement k**:\n",
        "\n",
        "----\n",
        "  * Update the state estimate: $$\\hat{\\mathbf{x}}_k = \\hat{\\mathbf{x}}_{k-1} + \\mathbf{K}_k\\left(\\mathbf{y}_k - \\mathbf{H}_k\\hat{\\mathbf{x}}_{k-1}\\right)$$\n",
        "  * Update the state covariance estimate: $$\\mathbf{P}_k = \\left(\\mathbf{I} - \\mathbf{K}_k\\mathbf{H}_k\\right)\\mathbf{P}_{k-1}$$"
      ],
      "metadata": {
        "id": "drhU_j5mV4cc"
      }
    },
    {
      "cell_type": "markdown",
      "metadata": {
        "id": "H-wXjA44UNfE"
      },
      "source": [
        "## Example - RLS\n",
        "----\n",
        "Following data are collected at equal time interval\n",
        "\n",
        "| Current (A) | Voltage (V) |\n",
        "|-------------|-------------|\n",
        "| 0.2         | 1.23        |\n",
        "| 0.3         | 1.38        |\n",
        "| 0.4         | 2.06        |\n",
        "| 0.5         | 2.47        |\n",
        "| 0.6         | 3.17        |\n",
        "\n",
        "Fit a measurement linear model $V = IR' + b$ using recursive LS and compare with batch solution. The voltage measurements are corrupted by additive, independent and identitically distributed zero-mean Gaussian noise with a standard deviation of $0.15~V$ (i.e., a variance of $0.0225 ~ V^2$). Assume $R'$ and $b$, follows a Gaussian or normal distribution with a mean of $4~\\Omega$ and a standard deviation of $3~ \\Omega$ for $R'$ and  a mean of $0~V$ and a variance of $0.2~V^{2}$ for $b$."
      ]
    },
    {
      "cell_type": "markdown",
      "source": [
        "###Solution\n",
        "The state matrix;\n",
        "$\\mathbf{x}=\\begin{bmatrix} x_1 \\\\ x_2 \\end{bmatrix}\n",
        "=\\begin{bmatrix} R' \\\\ b \\end{bmatrix}$.  \n",
        "\n",
        "For the given noise in the parameters $R'$ and $b$; the sensor noise can be representated by the following:  \n",
        "\n",
        "$$R' \\sim \\mathcal{N}(4, 9.0),~~b \\sim \\mathcal{N}(0, 0.2)$$\n",
        "\n",
        "In this case, the initial parameter vector $\\hat{\\mathbf{x}}_0$ contains $R$ and $b$. "
      ],
      "metadata": {
        "id": "vv4LbpARUcCQ"
      }
    },
    {
      "cell_type": "markdown",
      "source": [
        "### Python Code\n",
        "----\n",
        "As before, the first step is to import the neccesary Python modules and load the current values and voltage measurements into NumPy arrays:"
      ],
      "metadata": {
        "id": "yq3ZCObfQ0iF"
      }
    },
    {
      "cell_type": "code",
      "execution_count": 2,
      "metadata": {
        "id": "VB2kY07GUNfG"
      },
      "outputs": [],
      "source": [
        "import numpy as np\n",
        "from numpy.linalg import inv\n",
        "import matplotlib.pyplot as plt"
      ]
    },
    {
      "cell_type": "code",
      "execution_count": null,
      "metadata": {
        "id": "LnBY7sVSUNfI"
      },
      "outputs": [],
      "source": [
        "I = np.array([[0.2], [0.3], [0.4], [0.5], [0.6]])\n",
        "V = np.array([[1.23, 1.38, 2.06, 2.47, 3.17]]).T\n",
        "print(\"Current \\n\",I,\"\\nVoltage \\n\", V)"
      ]
    },
    {
      "cell_type": "code",
      "execution_count": 4,
      "metadata": {
        "id": "6gMthuGoUNfJ",
        "outputId": "9a0dae9d-2dae-4ad5-a8f2-bb9374239954",
        "colab": {
          "base_uri": "https://localhost:8080/",
          "height": 282
        }
      },
      "outputs": [
        {
          "output_type": "display_data",
          "data": {
            "text/plain": [
              "<Figure size 432x288 with 1 Axes>"
            ],
            "image/png": "[encoded data removed]"
          },
          "metadata": {
            "needs_background": "light"
          }
        }
      ],
      "source": [
        "plt.scatter(I, V)\n",
        "plt.xlabel('Current (A)')\n",
        "plt.ylabel('Voltage (V)')\n",
        "plt.grid(True)\n",
        "plt.show()"
      ]
    },
    {
      "cell_type": "markdown",
      "source": [
        "The measurement covariance matrix, $\\mathbf{R}=\\begin{bmatrix} 0.0225 \\end{bmatrix}$  \n",
        "\n",
        "Let us take the mean values of the state parameters as the intial guess, so,  \n",
        "\n",
        "$\\mathbf{x}_{k=0}=\\begin{bmatrix} 4 \\\\ 0 \\end{bmatrix}$  \n",
        "\n",
        "The initial state covariance matrix is given by\n",
        "\n",
        "$\\mathbf{P}_{k=0}=\\begin{bmatrix} 9 & 0 \\\\ 0 & 0.2 \\end{bmatrix}$  \n"
      ],
      "metadata": {
        "id": "cN1wu3OALZkI"
      }
    },
    {
      "cell_type": "code",
      "source": [
        "# Our voltage measurement variance (denoted by R, don't confuse with resistance).\n",
        "R_k = np.array([[0.0225]])\n",
        "print(R_k)\n",
        "# Assume initial values of the state [2x1] R and b.\n",
        "x0=np.array([[4.0], [0.0]])\n",
        "\n",
        "#Assume initial Process Covariance matrix [2x2]. Off-diangonal be zeros.\n",
        "P0=np.array([[9.0, 0], [0, 0.2]])\n",
        "print(\"Initial State \\n\",x0,'\\nInitial State covariance \\n', P0)"
      ],
      "metadata": {
        "id": "trt62dydeNup"
      },
      "execution_count": null,
      "outputs": []
    },
    {
      "cell_type": "code",
      "source": [
        "num_meas = I.shape[0] # Try I.shape\n",
        "H_k=np.ones(2).reshape(1,2)\n",
        "print(H_k.shape)\n",
        "P_k=P0\n",
        "x_k=x0"
      ],
      "metadata": {
        "id": "tESqRDnYYUfn"
      },
      "execution_count": null,
      "outputs": []
    },
    {
      "cell_type": "markdown",
      "source": [
        "$\\mathbf{K}_k = \\mathbf{P}_{k-1}\\mathbf{H}_k^T\\left(\\mathbf{H}_k\\mathbf{P}_{k-1}\\mathbf{H}_k^T + \\mathbf{R}_k\\right)^{-1}$"
      ],
      "metadata": {
        "id": "uYXo0FiUZg9i"
      }
    },
    {
      "cell_type": "code",
      "source": [
        "def update_gain(P,H,R):\n",
        "  K=P_k.dot(H.T).dot(inv(H.dot(P.dot(H.T))+R))\n",
        "  return K"
      ],
      "metadata": {
        "id": "paX_7sGDZBze"
      },
      "execution_count": 48,
      "outputs": []
    },
    {
      "cell_type": "markdown",
      "source": [
        "$\\hat{\\mathbf{x}}_k = \\hat{\\mathbf{x}}_{k-1} + \\mathbf{K}_k\\left(\\mathbf{y}_k - \\mathbf{H}_k\\hat{\\mathbf{x}}_{k-1}\\right)$  \n",
        "\n",
        "$\\mathbf{P}_k = \\left(\\mathbf{I} - \\mathbf{K}_k\\mathbf{H}_k\\right)\\mathbf{P}_{k-1}$"
      ],
      "metadata": {
        "id": "OVZlW-HGXLf3"
      }
    },
    {
      "cell_type": "code",
      "execution_count": 46,
      "metadata": {
        "id": "ySVcluNdUNfM",
        "outputId": "771beffb-1e4a-4fda-835b-d0596ee5f2b6",
        "colab": {
          "base_uri": "https://localhost:8080/"
        }
      },
      "outputs": [
        {
          "output_type": "stream",
          "name": "stdout",
          "text": [
            "(1, 2)\n",
            "The slope and offset parameters of the best-fit line (i.e., the resistance and offset) are [R, b]:\n",
            "[[5.07817134]\n",
            " [0.11979682]]\n"
          ]
        }
      ],
      "source": [
        "# Iterate over all the available measurements.\n",
        "for k in range(num_meas):\n",
        "    # Construct H_k (Jacobian).\n",
        "    H_k[0][0] = I[k]\n",
        "    #print(\"Hk\",H_k, H_k.shape)\n",
        "\n",
        "    # Construct K_k (gain matrix). \n",
        "    K_k=P_k.dot(H_k.T).dot(inv(H_k.dot(P_k.dot(H_k.T))+R_k))\n",
        "    #print(K_k)\n",
        "    \n",
        "    # Update our estimate.\n",
        "    x_k = x_k+K_k.dot(V[k]-H_k.dot(x_k))\n",
        " \n",
        "    # Update uncertainty (covariance) of the Process/Model \n",
        "    P_k = K_k.dot(H_k)\n",
        "    #print(P_k)\n",
        "    \n",
        "print('The slope and offset parameters of the best-fit line (i.e., the resistance and offset) are [R, b]:')\n",
        "print(x_k)"
      ]
    },
    {
      "cell_type": "code",
      "execution_count": null,
      "metadata": {
        "id": "O4lz3oonUNfM",
        "outputId": "9090c986-b51f-4798-9fdd-62c9e0fb873e",
        "colab": {
          "base_uri": "https://localhost:8080/",
          "height": 280
        }
      },
      "outputs": [
        {
          "output_type": "display_data",
          "data": {
            "text/plain": [
              "<Figure size 432x288 with 1 Axes>"
            ],
            "image/png": "[encoded data removed]"
          },
          "metadata": {
            "needs_background": "light"
          }
        }
      ],
      "source": [
        "plt.scatter(I, V, label='Data')\n",
        "#plt.plot(I_line, V_line, label='Batch Solution')\n",
        "plt.xlabel('Current (A)')\n",
        "plt.ylabel('Voltage (V)')\n",
        "plt.grid(True)\n",
        "\n",
        "I_line = np.arange(0, 0.8, 0.1).reshape(8, 1)\n",
        "\n",
        "for k in range(num_meas):\n",
        "    V_line = x[k, 0]*I_line + x[k, 1]\n",
        "    plt.plot(I_line, V_line, label='Measurement {}'.format(k))\n",
        "plt.legend()\n",
        "plt.show()"
      ]
    }
  ],
  "metadata": {
    "kernelspec": {
      "display_name": "Python 3",
      "language": "python",
      "name": "python3"
    },
    "language_info": {
      "codemirror_mode": {
        "name": "ipython",
        "version": 3
      },
      "file_extension": ".py",
      "mimetype": "text/x-python",
      "name": "python",
      "nbconvert_exporter": "python",
      "pygments_lexer": "ipython3",
      "version": "3.8.8"
    },
    "colab": {
      "provenance": []
    }
  },
  "nbformat": 4,
  "nbformat_minor": 0
}