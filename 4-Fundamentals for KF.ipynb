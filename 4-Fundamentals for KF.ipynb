{
  "nbformat": 4,
  "nbformat_minor": 0,
  "metadata": {
    "colab": {
      "provenance": [],
      "authorship_tag": "ABX9TyOx0SK2xhvx+QCdZdnR4WAh",
      "include_colab_link": true
    },
    "kernelspec": {
      "name": "python3",
      "display_name": "Python 3"
    },
    "language_info": {
      "name": "python"
    }
  },
  "cells": [
    {
      "cell_type": "markdown",
      "metadata": {
        "id": "view-in-github",
        "colab_type": "text"
      },
      "source": [
        "<a href=\"https://colab.research.google.com/github/vkjadon/State-Estimation/blob/main/4-Fundamentals%20for%20KF.ipynb\" target=\"_parent\"><img src=\"https://colab.research.google.com/assets/colab-badge.svg\" alt=\"Open In Colab\"/></a>"
      ]
    },
    {
      "cell_type": "markdown",
      "source": [
        "# Probability"
      ],
      "metadata": {
        "id": "QKJqyzLRL6dP"
      }
    },
    {
      "cell_type": "markdown",
      "source": [
        "In case we cannot predict happing of any event with certainty, we predict the chance of an event to occur using the likelihood of an event to occur. The measure of this prediction is called the probability. It ranges from 0 to 1, where 0 means that the event is not likely to happen and 1 indicates a the event is certain to happen. \n",
        "Mathematically, the probability of an event to happen is equal to the ratio of the number of favourable outcomes of that event and the total number of outcomes of that event. The tossing up a coin is a simple event.\n",
        "\n",
        "Let there are $n$ possible outcomes (sample space) and out of these $r$ are the favourable, then the probability of event $A$ to happen in some sample space $n$ is represented by $P(A)$ and is given by  \n",
        "\n",
        "$$P(A)=\\frac{r}{n}$$\n",
        "\n",
        "The number of ways that the event $A$ will not occur is $n-r$. The probability of non occurance of event $A$ is $P(A')$.\n",
        "\n",
        "$$P(A')=\\frac{n-r}{n}=1-\\frac{r}{n}=1-P(A)$$\n",
        "\n",
        "$$P(A')+P(A)=1$$\n",
        "\n",
        "This shows that the probability of all the events in a sample space adds up to 1. \n",
        "\n",
        "For example, when we toss a coin, either we get Head OR Tail, only two possible outcomes are possible $(H, T)$. But when two coins are tossed then there will be four possible outcomes,  i.e ${(H, H), (H, T), (T, H), (T, T)}$.   \n",
        "This formula expressed above is the basic formula and it changes for different situations or events."
      ],
      "metadata": {
        "id": "zRkWAurWWxYk"
      }
    },
    {
      "cell_type": "markdown",
      "source": [
        "###Complementary Events\n",
        "The possibility that there will be only two outcomes which states that an event will occur or not. Like a person will come or not come to your house, getting a job or not getting a job, etc. are examples of complementary events. Basically, the complement of an event occurring in the exact opposite that the probability of it is not occurring. Some more examples are:\n",
        "\n",
        "It will rain or not rain today\n",
        "The student will pass the exam or not pass.\n",
        "You win the lottery or you don’t."
      ],
      "metadata": {
        "id": "tzSISFnjyzpI"
      }
    },
    {
      "cell_type": "markdown",
      "source": [
        "##Terminology of Probability Theory"
      ],
      "metadata": {
        "id": "roNHMFmx4i6e"
      }
    },
    {
      "cell_type": "markdown",
      "source": [
        "The following terms in probability help in a better understanding of the concepts of probability.\n",
        "\n",
        "###Experiment: \n",
        "A trial or an operation conducted to produce an outcome is called an experiment.\n",
        "\n"
      ],
      "metadata": {
        "id": "XbY_qrZk5JXb"
      }
    },
    {
      "cell_type": "markdown",
      "source": [
        "###Sample Space: \n",
        "All the possible outcomes of an experiment together constitute a sample space. For example, the sample space of tossing a coin is head and tail."
      ],
      "metadata": {
        "id": "6K8UkPZF56QD"
      }
    },
    {
      "cell_type": "markdown",
      "source": [
        "###Favorable Outcome: \n",
        "An event that has produced the desired result or expected event is called a favorable outcome. For example, when we roll two dice, the possible/favorable outcomes of getting the sum of numbers on the two dice as 4 are (1,3), (2,2), and (3,1)."
      ],
      "metadata": {
        "id": "-IkY4YJt5zIv"
      }
    },
    {
      "cell_type": "markdown",
      "source": [
        "###Trial: \n",
        "A trial denotes doing a random experiment."
      ],
      "metadata": {
        "id": "i5Gc2r0R5wxf"
      }
    },
    {
      "cell_type": "markdown",
      "source": [
        "###Random Experiment: \n",
        "An experiment that has a well-defined set of outcomes is called a random experiment. For example, when we toss a coin, we know that we would get ahead or tail, but we are not sure which one will appear.\n"
      ],
      "metadata": {
        "id": "ir9d0-FC5uIT"
      }
    },
    {
      "cell_type": "markdown",
      "source": [
        "###Event: \n",
        "The total number of outcomes of a random experiment is called an event.\n",
        "\n"
      ],
      "metadata": {
        "id": "hsnZQM5m5kT2"
      }
    },
    {
      "cell_type": "markdown",
      "source": [
        "###Equally Likely Events: \n",
        "Events that have the same chances or probability of occurring are called equally likely events. The outcome of one event is independent of the other. For example, when we toss a coin, there are equal chances of getting a head or a tail.\n",
        "When the events have the same theoretical probability of happening, then they are called equally likely events. The results of a sample space are called equally likely if all of them have the same probability of occurring. For example, if you throw a die, then the probability of getting 1 is 1/6. Similarly, the probability of getting all the numbers from 2,3,4,5 and 6, one at a time is 1/6. Hence, the following are some examples of equally likely events when throwing a die:\n",
        "\n",
        "Getting 3 and 5 on throwing a die\n",
        "Getting an even number and an odd number on a die\n",
        "Getting 1, 2 or 3 on rolling a die\n",
        "are equally likely events, since the probabilities of each event are equal."
      ],
      "metadata": {
        "id": "o7l9W8Ls5TaI"
      }
    },
    {
      "cell_type": "markdown",
      "source": [
        "###Exhaustive Events: \n",
        "When the set of all outcomes of an experiment is equal to the sample space, we call it an exhaustive event."
      ],
      "metadata": {
        "id": "tmMm8VuP5Qz3"
      }
    },
    {
      "cell_type": "markdown",
      "source": [
        "###Mutually Exclusive Events: \n"
      ],
      "metadata": {
        "id": "uk3YmV8-5OQg"
      }
    },
    {
      "cell_type": "markdown",
      "source": [
        "Events that cannot happen simultaneously are called mutually exclusive events. For example, the climate can be either hot or cold. We cannot experience the same weather simultaneously."
      ],
      "metadata": {
        "id": "JeFr93aw5bdC"
      }
    },
    {
      "cell_type": "markdown",
      "source": [
        "##Probability of Events\n",
        "In case we are dealing with an event which depends on other two events $A$ and $B$ in the sample space, the probability of happening events $A$ or/and $B$ is obtained by the basic rules of probability\n",
        "\n",
        "$$P ( A ∪ B ) = P ( A ) + P ( B ) − P ( A ∩ B )$$\n",
        "\n",
        "$$P ( A ∩ B ) = P ( B ) ⋅ P ( A | B )$$\n"
      ],
      "metadata": {
        "id": "t0hCFJ3U1gRS"
      }
    },
    {
      "cell_type": "markdown",
      "source": [
        "If the probability of two outcomes is independent (one does not affect the other) then the\n",
        "probability of both occurring is the product of their individual probabilities:\n",
        "\n",
        "$$P(A∩B) = P(A)P(B)$$\n"
      ],
      "metadata": {
        "id": "Bp8ehUJH9bzr"
      }
    },
    {
      "cell_type": "markdown",
      "source": [
        "The Kalman filter is essentially a set of mathematical equations that implement a predictor-corrector type estimator that is optimal in the sense that it minimizes the estimated error covariance. Kalman filter update the theoretically predicted state by taking into account the measured state and theoretically predicted state in appropriate proportion.  \n",
        "\n",
        "The state of the system is $\\mathbf{x}_k$; The state is defined by means and the variances of the various components of the state. So, we can write $\\mathbf{x}_k \\sim \\mathcal{N}(\\mathbf{\\mu_k}, \\mathbf{P_k})$.  \n",
        "\n",
        "The componets of the state would depends on the process of state model. In case of robot, the process or state model is the motion model. We can represent the motion model in terms of displacement and velocity state. In such case, the state components would be as below:\n",
        "* for 1D $ ~ x_k = \\begin{bmatrix} p_x \\\\ p^{'}_x\\end{bmatrix} $ \n",
        "\n",
        "* for 2D $ ~ x_k = \\begin{bmatrix} p_x \\\\ p_y \\\\ p^{'}_x \\\\ p^{'}_y\\end{bmatrix} $\n",
        "\n",
        "In case of mobile robot, the state is position and velocity, but it could be data about the amount of fluid in a tank, the temperature of a car engine, the position of a user’s finger on a touchpad, or any number of things you need to keep track of."
      ],
      "metadata": {
        "id": "6AAB21Jy6Gg1"
      }
    },
    {
      "cell_type": "markdown",
      "source": [
        "##Measurement and Process Noise\n",
        "\n",
        "We know that measurements from sensors are noisy. There are many sources of noise; some random electrical noise is added to the signal via the sensor and the electrical circuits and affects the quantity and quality of the information. The analytical measurement models incorporate random measurement noise or uncertainty as shown above.   \n",
        "\n",
        "There is the additional problem that the actual state transform model is completely unknown. While we can make predictions over relatively short intervals using models based on recent state transforms, such predictions assume that the transforms are predictable, which is not always the case. The result is that like sensor information, ongoing estimates of the state must be qualified as they are combined with measurements in an overall sequence of estimates. Process models also incorporate random motion or uncertainty."
      ],
      "metadata": {
        "id": "OraUB5x9bQUn"
      }
    },
    {
      "cell_type": "markdown",
      "source": [
        "## KF Algorithm"
      ],
      "metadata": {
        "id": "_Yq0m8y7-F9W"
      }
    },
    {
      "cell_type": "markdown",
      "source": [
        "**Step-1: Initialize the parameter and covariance estimates**:\n",
        "\n",
        "----\n",
        "Initial estimated states matrix, $\\hat{\\mathbf{x}}_0$  \n",
        "\n",
        "Initial estimated state covariance matrix, $\\mathbf{\\hat{P}}_0 $.  \n",
        "\n",
        "**Step-2: Assume process or motion model and predict the current state using previous estimate**:\n",
        "\n",
        "----\n",
        "A process model is the model that transforms of the process state.\n",
        "\n",
        "$$\\mathbf{\\check{x}}_k = \\mathbf{F}\\mathbf{\\hat{x}}_{k-1}+\\mathbf{G}\\mathbf{u}_{k-1}+\\mathbf{w}_{k}$$ \n",
        "\n",
        "Where,   \n",
        "\n",
        "$\\mathbf{\\check{x}}_k$; Predicted State matrix using motion model (or process model) at $k^{th}$ time step.  \n",
        "\n",
        "$\\mathbf{\\hat{x}}_{k-1}$; Estimated State matrix using filter at $k^{th}$ time step or previous estimate of the state.  \n",
        "\n",
        "$\\mathbf{F}$; State transition matrix.  \n",
        "\n",
        "$\\mathbf{G}$; Input interaction matrix.  \n",
        "\n",
        "$\\mathbf{w}_k$; State noise; $\\mathbf{w}_k \\sim \\mathcal{N}(0, \\mathbf{Q})$\n",
        "\n",
        "$\\mathbf{Q}_k$; State noise covariance\n",
        "\n",
        "$\\mathbf{\\check{x}}_k$ is the new best estimate made from previous best estimate ($\\mathbf{\\hat{x}}_{k-1}$), plus corrections for known external influences ($\\mathbf{u}_{k-1}$) or input."
      ],
      "metadata": {
        "id": "D4NIjRxGU85j"
      }
    },
    {
      "cell_type": "markdown",
      "source": [
        "**Step-3: Calculate process or state covariance matrix using the previous process or state covariance and the given state noise covariance**:\n",
        "\n",
        "----\n",
        "$$\\mathbf{\\check{P}}_k = \\mathbf{F\\hat{P}_{k-1}F^T}+\\mathbf{Q}_k$$ \n",
        "\n",
        "Where,   \n",
        "\n",
        "$\\mathbf{\\check{P}}_k$; Predicted State covariance matrix at $k^{th}$ time step.  \n",
        "\n",
        "$\\mathbf{\\hat{P}}_{k-1}$; Estimated State covariance matrix at $(k-1)^{th}$ time step.  \n",
        "\n",
        "$\\mathbf{Q}$; State noise covariance matrix. \n",
        "\n",
        "And the new uncertainty (covariance), $\\mathbf{\\check{P}}_k$, is predicted from the old uncertainty (covariance), $\\mathbf{\\hat{P}}_{k-1}$, with some additional uncertainty from the environment($\\mathbf{Q}_k$)."
      ],
      "metadata": {
        "id": "8UC3tIIJEv2a"
      }
    },
    {
      "cell_type": "markdown",
      "source": [
        "**Step-4: Assume measurement model**:\n",
        "\n",
        "----\n",
        "\n",
        "The measurement model describes the relationship between the process state and the measurements.\n",
        "\n",
        "$$\\mathbf{y}_k = \\mathbf{H}\\mathbf{x}_k+\\mathbf{v}_k$$\n",
        "\n",
        "Where,   \n",
        "\n",
        "$\\mathbf{y}_k$; New measurement at $k^{th}$ time step.  \n",
        "\n",
        "$\\mathbf{H}$; Measurement sensor-state interaction matrix. \n",
        "\n",
        "$\\mathbf{v}_k$; measurement noise of covariance $\\mathbf{R}$. i.e. $\\mathbf{v}_k \\sim \\mathcal{N}(0, \\mathbf{R})$"
      ],
      "metadata": {
        "id": "WTr7TpyKEsEY"
      }
    },
    {
      "cell_type": "markdown",
      "source": [
        "**Step-5: Calculate the Kalman gain matrix for every measurement k**:\n",
        "\n",
        "----\n",
        "  * Calculate the gain term: $$\\mathbf{K}_k = \\mathbf{\\check{P}}_{k}\\mathbf{H}\\left(\\mathbf{H}\\mathbf{\\check{P}}_k\\mathbf{H}^T + \\mathbf{R}\\right)^{-1}$$   "
      ],
      "metadata": {
        "id": "B_8YA0kiHXfm"
      }
    },
    {
      "cell_type": "markdown",
      "source": [
        "**Step-6: Update estimate of the state $\\mathbf{\\hat{x}_k}$ and state covariance $\\mathbf{P}_k$ for every measurement k**:\n",
        "\n",
        "----\n",
        "  * Update the state estimate: $$\\hat{\\mathbf{x}}_k = \\check{\\mathbf{x}}_k + \\mathbf{K}_k\\left(\\mathbf{y}_k - \\mathbf{H}\\check{\\mathbf{x}}_k\\right)$$\n",
        "\n",
        "  * Update the state covariance estimate: $$\\mathbf{\\hat{P}}_k = \\left(\\mathbf{I} - \\mathbf{K}_k\\mathbf{H}\\right)\\mathbf{\\check{P}}_{k-1}$$"
      ],
      "metadata": {
        "id": "9Nu7gHmLNqHc"
      }
    },
    {
      "cell_type": "markdown",
      "source": [
        "The random variables $\\mathbf{w}_k$ and $\\mathbf{v}_k$ represent the process and measurement noise respectively. They are assumed to be independent (of each other), white, and with normal probability distributions as discribed.\n",
        "\n",
        "$\\mathbf{w}_k \\sim \\mathcal{N}(0, \\mathbf{Q})$  \n",
        "\n",
        "$\\mathbf{v}_k \\sim \\mathcal{N}(0, \\mathbf{R})$  \n",
        "\n",
        "In practice, the process noise covariance $\\mathbf{Q}$ and measurement noise covariance $\\mathbf{R}$ matrices might change with each time step or measurement, however here we assume they are constant.   \n",
        "\n",
        "The $n × n$ matrix $\\mathbf{F}$ in the process/state model equation relates the state at the previous time step $k – 1$ to the state at the current step $k$. Here, $n$ is the number of states.   \n",
        "In practice $\\mathbf{F}$ might change with each time step, but here we assume it is constant.    \n",
        "\n",
        "The $n × l$ matrix $\\mathbf{G}$ relates the optional control input $u ∈ R^l$ to the state $\\mathbf{x}$.   \n",
        "\n",
        "The $m × n$ matrix $\\mathbf{H}$ in the measurement equation relates the state to the measurement $y_k$. Here $m$ is the number of measurements.\n",
        "\n",
        "In practice $\\mathbf{H}$ might change with each time step or measurement, but here we assume it is constant."
      ],
      "metadata": {
        "id": "ZZRJwv6PdHiH"
      }
    },
    {
      "cell_type": "markdown",
      "source": [
        "##Example 1: Estimating robot position with KF\n",
        "\n",
        "We have a robot equipped with sensors to directly measure the location of the robot in the room. The state of the robot is $(p_x, p_y)$ in the room, and the control inputs are the velocity in each direction $p^{'}_x$ and $p^{'}_y$ of unit magnitude. The following matrices are given.\n",
        "\n",
        "$F = \\begin{bmatrix} 1 & 0 \\\\ 0 & 1 \\end{bmatrix} $\n",
        "\n",
        "$ G =  \\begin{bmatrix} 1 & 0 \\\\ 0 & 1 \\end{bmatrix} $\n",
        "\n",
        "$ Q =  \\begin{bmatrix} 0.3 & 0 \\\\ 0 & 0.3 \\end{bmatrix} $\n",
        "\n",
        "$ H =  \\begin{bmatrix} 1 & 0 \\\\ 0 & 1 \\end{bmatrix} $\n",
        "\n",
        "$ R =  \\begin{bmatrix} 0.75 & 0.0 \\\\ 0.0 & 0.6 \\end{bmatrix} $\n",
        "\n",
        "Track the robot at each time step using Kalman filter. Compare the ideal trajectory with motion and measurement models trajectories. You can simulate the sensor measurements using the measurement model and the given matrices."
      ],
      "metadata": {
        "id": "1n715_SsNx5j"
      }
    },
    {
      "cell_type": "markdown",
      "source": [
        "##Solution\n",
        "\n",
        "To understand the problem and motivate our desire to use Kalman filter, let's plot and "
      ],
      "metadata": {
        "id": "dXHrwNf0N3_g"
      }
    },
    {
      "cell_type": "markdown",
      "source": [
        "The robot is initialized at $(p_x, p_y)= (0,0)$, and moves by applying constant control inputs $p^{'}_x = p^{'}_y=1$ for 10 time steps. Assume the initial belief state as the following:\n",
        "\n",
        "$ x_0 =  \\begin{bmatrix} 0 \\\\ 0 \\end{bmatrix} $\n",
        "\n",
        "$ P_0 =  \\begin{bmatrix} 0.1 & 0\\\\ 0 & 0.1 \\end{bmatrix} $\n"
      ],
      "metadata": {
        "id": "kiWONz6sVRnQ"
      }
    },
    {
      "cell_type": "code",
      "source": [
        "%matplotlib inline\n",
        "import numpy as np\n",
        "import matplotlib.pyplot as plt"
      ],
      "metadata": {
        "id": "Zu1W4BWAL7DS"
      },
      "execution_count": null,
      "outputs": []
    },
    {
      "cell_type": "code",
      "source": [
        "# state = [px, py] px=py as px'=py'=1\n",
        "num_steps = 10\n",
        "# ground_truth_states is [[0,0], [1,1], ..., [10,10]]\n",
        "px_true = np.linspace(0, 10, num=num_steps + 1)\n",
        "py_true = px_true.copy() \n",
        "ground_truth_states = np.stack((px_true,py_true), axis=1) \n",
        "\n",
        "print(ground_truth_states)"
      ],
      "metadata": {
        "id": "VcUrOkhJNyhN"
      },
      "execution_count": null,
      "outputs": []
    },
    {
      "cell_type": "markdown",
      "source": [
        "$\\mathbf{\\check{x}}_k = \\mathbf{F}\\mathbf{\\hat{x}}_{k-1}+\\mathbf{G}\\mathbf{u}_{k-1}+\\mathbf{w}_{k}$  \n",
        "\n",
        "$\\mathbf{\\check{P}}_k = \\mathbf{F\\hat{P}_{k-1}F^T}+\\mathbf{Q}_k$ "
      ],
      "metadata": {
        "id": "GmLtx1szcrGA"
      }
    },
    {
      "cell_type": "code",
      "source": [
        "def predict(F, G, Q, u_t, x_t, P_t):\n",
        "  #mean of white noise is zero\n",
        "  predicted_x = F @ x_t + G @ u_t\n",
        "  predicted_P = F @ P_t @ F.T + Q\n",
        "  return predicted_x, predicted_P"
      ],
      "metadata": {
        "id": "j9Ci0SymOGel"
      },
      "execution_count": null,
      "outputs": []
    },
    {
      "cell_type": "code",
      "source": [
        "# The matrices required for predicion stage are given as below for the present problem\n",
        "u_t = np.array([1.0, 1.0]) # given constant control input\n",
        "F = np.array([[1, 0], [0, 1]])\n",
        "G = np.array([[1, 0], [0, 1]])\n",
        "Q = np.array([[0.3, 0], [0, 0.3]]) # given Q matrix"
      ],
      "metadata": {
        "id": "p0R5VFYU_PpT"
      },
      "execution_count": null,
      "outputs": []
    },
    {
      "cell_type": "markdown",
      "source": [
        "$\\mathbf{K}_k = \\mathbf{\\check{P}}_{k}\\mathbf{H}\\left(\\mathbf{H}\\mathbf{\\check{P}}_k\\mathbf{H}^T + \\mathbf{R}\\right)^{-1}$   \n",
        "\n",
        "$\\hat{\\mathbf{x}}_k = \\check{\\mathbf{x}}_k + \\mathbf{K}_k\\left(\\mathbf{y}_k - \\mathbf{H}\\check{\\mathbf{x}}_k\\right)$   \n",
        "\n",
        "$\\mathbf{\\hat{P}}_k = \\left(\\mathbf{I} - \\mathbf{K}_k\\mathbf{H}\\right)\\mathbf{\\check{P}}_{k-1}$"
      ],
      "metadata": {
        "id": "3M5JFlZ3dfJG"
      }
    },
    {
      "cell_type": "code",
      "source": [
        "def update(H, R, y, predicted_x, predicted_P):\n",
        "    measurement_error_covariance = H @ predicted_P @ H.T + R\n",
        "    kalman_gain = predicted_P @ H.T @ np.linalg.inv(measurement_error_covariance)\n",
        "    measurement_error = y - H @ predicted_x\n",
        "    updated_x = predicted_x + kalman_gain @ measurement_error\n",
        "    updated_P = predicted_P - kalman_gain @ H @ predicted_P\n",
        "    return updated_x, updated_P"
      ],
      "metadata": {
        "id": "rCPoWQS4OWTY"
      },
      "execution_count": null,
      "outputs": []
    },
    {
      "cell_type": "code",
      "source": [
        "# The matrices required for update stage are given as below for the present problem\n",
        "H = np.array([[1, 0], [0, 1]]) # given H matrix\n",
        "R = np.array([[0.75, 0], [0, 0.6]]) # given R matrix"
      ],
      "metadata": {
        "id": "6pm24IQp_Jt9"
      },
      "execution_count": null,
      "outputs": []
    },
    {
      "cell_type": "markdown",
      "source": [
        "Let's now run our Kalman filter for 10 time steps!"
      ],
      "metadata": {
        "id": "13mADtK4Oi3N"
      }
    },
    {
      "cell_type": "code",
      "source": [
        "# Initialize the problem with the given information\n",
        "x_0 = np.array([0, 0])\n",
        "P_0 = np.array([[0.1, 0], [0, 0.1]])\n",
        "\n",
        "# Initialize empty lists to store the motion, measurements and filtered states for plotting\n",
        "motion_states = []\n",
        "measurement_states = []\n",
        "filtered_states = []\n",
        "\n",
        "# Run KF for each time step\n",
        "x_current = x_0.copy()\n",
        "P_current = P_0.copy()\n",
        "\n",
        "for i in range(num_steps):\n",
        "    \n",
        "    motion_noise = np.random.multivariate_normal(mean=np.array([0,0]), cov=Q) # ~N(0,Q)\n",
        "    #print(\"Process Noise \", motion_noise)\n",
        "    new_state = F @ x_current + G @ u_t + motion_noise # note: a @ b = np.dot(a,b)\n",
        "    motion_states.append(new_state)\n",
        "\n",
        "    # Predict step\n",
        "    predicted_x, predicted_P = predict(F, G, Q, u_t, x_current, P_current)\n",
        "    \n",
        "    # Get measurement (in real life, we get this from our sensor)    \n",
        "    measurement_noise = np.random.multivariate_normal(mean=np.array([0,0]), cov=R) # ~N(0,R)\n",
        "    new_measurement = H @ ground_truth_states[i+1] + measurement_noise # this is z_t\n",
        "    \n",
        "    # The rest of update step\n",
        "    x_current, P_current = update(H, R, new_measurement, predicted_x, predicted_P)\n",
        "    \n",
        "    # Store measurements and mu_current so we can plot it later\n",
        "    measurement_states.append(new_measurement)\n",
        "    filtered_states.append(x_current)\n",
        "\n",
        "# For plotting purposes, convert the lists to array\n",
        "motion_states = np.array(motion_states)\n",
        "measurement_states = np.array(measurement_states)\n",
        "filtered_states = np.array(filtered_states) "
      ],
      "metadata": {
        "id": "C8tx6xl8OfEe"
      },
      "execution_count": null,
      "outputs": []
    },
    {
      "cell_type": "code",
      "source": [
        "# Let's plot the results\n",
        "plt.plot(ground_truth_states[:,0], ground_truth_states[:,1]) # from previous section\n",
        "plt.plot(motion_states[:,0], motion_states[:,1]) # from previous section\n",
        "plt.plot(measurement_states[:,0], measurement_states[:,1])\n",
        "plt.plot(filtered_states[:,0], filtered_states[:,1])\n",
        "plt.xlim(-1,12)\n",
        "plt.ylim(-1,12)\n",
        "plt.xlabel('x position')\n",
        "plt.ylabel('y position')\n",
        "plt.legend(['ground truth', 'motion model', 'measurements', 'KF'])\n",
        "#plt.legend(['motion model', 'measurements', 'KF'])\n",
        "plt.gca().set_aspect('equal')\n",
        "plt.show()"
      ],
      "metadata": {
        "id": "JKsutu7jOnc_",
        "outputId": "d099765e-0458-41db-c578-9bdfc9cfc2a3",
        "colab": {
          "base_uri": "https://localhost:8080/",
          "height": 283
        }
      },
      "execution_count": null,
      "outputs": [
        {
          "output_type": "display_data",
          "data": {
            "text/plain": [
              "<Figure size 432x288 with 1 Axes>"
            ],
            "image/png": "[encoded data removed]"
          },
          "metadata": {
            "needs_background": "light"
          }
        }
      ]
    },
    {
      "cell_type": "markdown",
      "source": [
        "We can see, estimating states using noisy motion model and sensor measurement alone produces noisy state estimates. With Kalman filter, we can get a better state estimates by combining the prediction from motion model and sensor measurements."
      ],
      "metadata": {
        "id": "bMZthDq8OF7B"
      }
    }
  ]
}