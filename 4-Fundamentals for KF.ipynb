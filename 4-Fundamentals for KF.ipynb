{
  "nbformat": 4,
  "nbformat_minor": 0,
  "metadata": {
    "colab": {
      "provenance": [],
      "authorship_tag": "ABX9TyPmH1iPlUIgCVQXHX1aKe3C",
      "include_colab_link": true
    },
    "kernelspec": {
      "name": "python3",
      "display_name": "Python 3"
    },
    "language_info": {
      "name": "python"
    }
  },
  "cells": [
    {
      "cell_type": "markdown",
      "metadata": {
        "id": "view-in-github",
        "colab_type": "text"
      },
      "source": [
        "<a href=\"https://colab.research.google.com/github/vkjadon/State-Estimation/blob/main/4-Fundamentals%20for%20KF.ipynb\" target=\"_parent\"><img src=\"https://colab.research.google.com/assets/colab-badge.svg\" alt=\"Open In Colab\"/></a>"
      ]
    },
    {
      "cell_type": "markdown",
      "source": [
        "# Probability"
      ],
      "metadata": {
        "id": "QKJqyzLRL6dP"
      }
    },
    {
      "cell_type": "markdown",
      "source": [
        "In case we cannot predict happing of any event with certainty, we predict the chance of an event to occur using the likelihood of an event to occur. The measure of this prediction is called the probability. It ranges from 0 to 1, where 0 means that the event is not likely to happen and 1 indicates a the event is certain to happen. \n",
        "Mathematically, the probability of an event to happen is equal to the ratio of the number of favourable outcomes of that event and the total number of outcomes of that event. The tossing up a coin is a simple event.\n",
        "\n",
        "Let there are $n$ possible outcomes (sample space) and out of these $r$ are the favourable, then the probability of event $A$ to happen in some sample space $n$ is represented by $P(A)$ and is given by  \n",
        "\n",
        "$$P(A)=\\frac{r}{n}$$\n",
        "\n",
        "The number of ways that the event $A$ will not occur is $n-r$. The probability of non occurance of event $A$ is $P(A')$.\n",
        "\n",
        "$$P(A')=\\frac{n-r}{n}=1-\\frac{r}{n}=1-P(A)$$\n",
        "\n",
        "$$P(A')+P(A)=1$$\n",
        "\n",
        "This shows that the probability of all the events in a sample space adds up to 1. \n",
        "\n",
        "For example, when we toss a coin, either we get Head OR Tail, only two possible outcomes are possible $(H, T)$. But when two coins are tossed then there will be four possible outcomes,  i.e ${(H, H), (H, T), (T, H), (T, T)}$.   \n",
        "This formula expressed above is the basic formula and it changes for different situations or events."
      ],
      "metadata": {
        "id": "zRkWAurWWxYk"
      }
    },
    {
      "cell_type": "markdown",
      "source": [
        "###Complementary Events\n",
        "The possibility that there will be only two outcomes which states that an event will occur or not. Like a person will come or not come to your house, getting a job or not getting a job, etc. are examples of complementary events. Basically, the complement of an event occurring in the exact opposite that the probability of it is not occurring. Some more examples are:\n",
        "\n",
        "It will rain or not rain today\n",
        "The student will pass the exam or not pass.\n",
        "You win the lottery or you don’t."
      ],
      "metadata": {
        "id": "tzSISFnjyzpI"
      }
    },
    {
      "cell_type": "markdown",
      "source": [
        "##Terminology of Probability Theory"
      ],
      "metadata": {
        "id": "roNHMFmx4i6e"
      }
    },
    {
      "cell_type": "markdown",
      "source": [
        "The following terms in probability help in a better understanding of the concepts of probability.\n",
        "\n",
        "###Experiment: \n",
        "A trial or an operation conducted to produce an outcome is called an experiment.\n",
        "\n"
      ],
      "metadata": {
        "id": "XbY_qrZk5JXb"
      }
    },
    {
      "cell_type": "markdown",
      "source": [
        "###Sample Space: \n",
        "All the possible outcomes of an experiment together constitute a sample space. For example, the sample space of tossing a coin is head and tail."
      ],
      "metadata": {
        "id": "6K8UkPZF56QD"
      }
    },
    {
      "cell_type": "markdown",
      "source": [
        "###Favorable Outcome: \n",
        "An event that has produced the desired result or expected event is called a favorable outcome. For example, when we roll two dice, the possible/favorable outcomes of getting the sum of numbers on the two dice as 4 are (1,3), (2,2), and (3,1)."
      ],
      "metadata": {
        "id": "-IkY4YJt5zIv"
      }
    },
    {
      "cell_type": "markdown",
      "source": [
        "###Trial: \n",
        "A trial denotes doing a random experiment."
      ],
      "metadata": {
        "id": "i5Gc2r0R5wxf"
      }
    },
    {
      "cell_type": "markdown",
      "source": [
        "###Random Experiment: \n",
        "A random experiment has a well-defined outcomes but the occurence of the outcome is not certain. For example, when we toss a coin, we know that we would get ahead or tail, but we are not sure which one will appear. So, tossing a coin is the random experiment.\n"
      ],
      "metadata": {
        "id": "ir9d0-FC5uIT"
      }
    },
    {
      "cell_type": "markdown",
      "source": [
        "###Event: \n",
        "The total number of outcomes of a random experiment is called an event.\n",
        "\n"
      ],
      "metadata": {
        "id": "hsnZQM5m5kT2"
      }
    },
    {
      "cell_type": "markdown",
      "source": [
        "###Equally Likely Events: \n",
        "Events that have the same chances or probability of occurring are called equally likely events. The outcome of one event is independent of the other. For example, when we toss a coin, there are equal chances of getting a head or a tail.\n",
        "When the events have the same theoretical probability of happening, then they are called equally likely events. The results of a sample space are called equally likely if all of them have the same probability of occurring. For example, if you throw a die, then the probability of getting 1 is 1/6. Similarly, the probability of getting all the numbers from 2,3,4,5 and 6, one at a time is 1/6. Hence, the following are some examples of equally likely events when throwing a die:\n",
        "\n",
        "Getting 3 and 5 on throwing a die\n",
        "Getting an even number and an odd number on a die\n",
        "Getting 1, 2 or 3 on rolling a die\n",
        "are equally likely events, since the probabilities of each event are equal."
      ],
      "metadata": {
        "id": "o7l9W8Ls5TaI"
      }
    },
    {
      "cell_type": "markdown",
      "source": [
        "###Exhaustive Events: \n",
        "When the set of all outcomes of an experiment is equal to the sample space, we call it an exhaustive event."
      ],
      "metadata": {
        "id": "tmMm8VuP5Qz3"
      }
    },
    {
      "cell_type": "markdown",
      "source": [
        "###Mutually Exclusive Events: \n"
      ],
      "metadata": {
        "id": "uk3YmV8-5OQg"
      }
    },
    {
      "cell_type": "markdown",
      "source": [
        "Events that cannot happen simultaneously are called mutually exclusive events. For example, the climate can be either hot or cold. We cannot experience the same weather simultaneously."
      ],
      "metadata": {
        "id": "JeFr93aw5bdC"
      }
    },
    {
      "cell_type": "markdown",
      "source": [
        "##Probability of Events\n",
        "In case we are dealing with an event which depends on other two events $A$ and $B$ in the sample space, the probability of happening events $A$ or/and $B$ is obtained by the basic rules of probability\n",
        "\n",
        "$$P ( A ∪ B ) = P ( A ) + P ( B ) − P ( A ∩ B )$$\n",
        "\n",
        "$$P ( A ∩ B ) = P ( B ) ⋅ P ( A | B )$$\n"
      ],
      "metadata": {
        "id": "t0hCFJ3U1gRS"
      }
    },
    {
      "cell_type": "markdown",
      "source": [
        "If the probability of two outcomes is independent (one does not affect the other) then the\n",
        "probability of both occurring is the product of their individual probabilities:\n",
        "\n",
        "$$P(A∩B) = P(A)P(B)$$\n"
      ],
      "metadata": {
        "id": "Bp8ehUJH9bzr"
      }
    },
    {
      "cell_type": "markdown",
      "source": [
        "##Random Variables\n"
      ],
      "metadata": {
        "id": "75NjK_rJbYBc"
      }
    },
    {
      "cell_type": "markdown",
      "source": [
        "The real values of a random experiment is considered to be random variable. For exapmle, when two coins are tossed then there will be four possible outcomes, so, the sample space is ${(H, H), (H, T), (T, H), (T, T)}$.  \n",
        "Let us define a variable $X$ representing the number of heads in the sample space, so, $X(HH)=2$, $X(HT)=1$, $X(TH)=1$, $X(TT)=0$ \n",
        "\n",
        "$X$={0,1,2}\n",
        "\n",
        "The $X$ is the random variable and can take vaalues 0, 1, 2. These are called the range of the random variable and is subset of real numbers. Each of the element of sample space will map one of the real number in range.\n",
        "Let us take another example of experminets of throwing a dice and let $X$ be the odd numbers.\n",
        "\n",
        "Sample space is ${1,2,3,4,5,6}$, $X(1)=1$, $X(2)=0$, $X(3)=1$, $X(4)=0$, $X(5)=1$, $X(6)=0$\n",
        "\n",
        "$X$={0,1}\n",
        "\n",
        "Let us take another example where $X$ is the random number representing the number of throws needed to roll a $3$ first time. In this case we are not sure that it would take 1 roll, hundred rolls or millions of roll to 3 to come first time. But certainly we are sure that it would from a set of numbers $X$={1,2,3,4,5......}. Such a numbers are called $\\textbf{Countably Infinite Numbers}$.\n",
        "\n",
        "These random variables are called $disctrete$ random variables.   \n",
        "\n",
        "If the value of a random variable is anything between the interval, then its called $continuous$ random variables. For example the weight of students in a class. It is expected that the weight would be between 1 kg to 150 kg but it can be 60.5, 45.53, 98.129 kg etc."
      ],
      "metadata": {
        "id": "8wnuhXV33mmn"
      }
    },
    {
      "cell_type": "markdown",
      "source": [
        "##Probability Distribution"
      ],
      "metadata": {
        "id": "g7AbltiE3yYT"
      }
    },
    {
      "cell_type": "markdown",
      "source": [
        "A probability distribution is a statistical function that describes all the possible values and probabilities for a random variable within a given range. This range will be bound by the minimum and maximum possible values, but where the possible value would be plotted on the probability distribution will be determined by a number of factors. The mean (average), standard deviation, skewness, and kurtosis of the distribution are among these factors.\n",
        "\n",
        "$\\textbf{Discrete Probability Distribution}$\n",
        "\n",
        "A discrete distribution describes the probability of occurrence of each value of a discrete random variable. The number of spoiled apples out of 6 in your refrigerator can be an example of a discrete probability distribution.\n",
        "\n",
        "Each possible value of the discrete random variable can be associated with a non-zero probability in a discrete probability distribution.\n",
        "\n",
        "To explain this let us consider the random experiments of throwing two dices and look at the random number of sum of the numbers appearing on these dices.\n",
        "$X$={2,3,4,5,6,7,8,9,10,11,12}. \n",
        "\n",
        "The probability distribution is the representation of the probability of the each random variable. The probabilities can be written as:   \n",
        "\n",
        "$P(2)=1/36; P(3)=2/36; P(4)=3/36; P(5)=4/36; P(6)=5/36;   \n",
        "P(7)=6/36; P(8)=5/36; P(9)=4/36; P(10)=3/36; P(11)=2/36; P(12)=1/36$.  \n",
        "\n",
        "Seven is the most common outcome (1+6, 6+1, 5+2, 2+5, 3+4, 4+3). Two and twelve, on the other hand, are far less likely (1+1 and 6+6).The distribution is shown below."
      ],
      "metadata": {
        "id": "_7uc5zKj36NS"
      }
    },
    {
      "cell_type": "code",
      "source": [
        "import numpy as np\n",
        "X=np.array([2,3,4,5,6,7,8,9,10,11,12])\n",
        "p=np.array([1/36,2/36,3/36,4/36,5/36,6/36,5/36,4/36,3/36,2/36,1/36])\n",
        "print(X,\"\\n\",p)"
      ],
      "metadata": {
        "colab": {
          "base_uri": "https://localhost:8080/"
        },
        "id": "REbhIQtp7Pmg",
        "outputId": "28e83b4f-8375-4a99-c43a-346b33880f4f"
      },
      "execution_count": 9,
      "outputs": [
        {
          "output_type": "stream",
          "name": "stdout",
          "text": [
            "[ 2  3  4  5  6  7  8  9 10 11 12] \n",
            " [0.02777778 0.05555556 0.08333333 0.11111111 0.13888889 0.16666667\n",
            " 0.13888889 0.11111111 0.08333333 0.05555556 0.02777778]\n"
          ]
        }
      ]
    },
    {
      "cell_type": "code",
      "source": [
        "import matplotlib.pyplot as plt\n",
        "plt.bar(X,p)\n",
        "plt.show()"
      ],
      "metadata": {
        "colab": {
          "base_uri": "https://localhost:8080/",
          "height": 265
        },
        "id": "uD0d2XJy86If",
        "outputId": "bf2e8925-5c34-4a50-fc85-0f1d91670c34"
      },
      "execution_count": 10,
      "outputs": [
        {
          "output_type": "display_data",
          "data": {
            "text/plain": [
              "<Figure size 432x288 with 1 Axes>"
            ],
            "image/png": "[encoded data removed]"
          },
          "metadata": {
            "needs_background": "light"
          }
        }
      ]
    },
    {
      "cell_type": "markdown",
      "source": [
        "Continuous Probability Distributions\n",
        "A continuous distribution describes the probabilities of a continuous random variable's possible values. A continuous random variable has an infinite and uncountable set of possible values (known as the range). The mapping of time can be considered as an example of the continuous probability distribution. It can be from 1 second to 1 billion seconds, and so on.\n",
        "\n",
        "The area under the curve of a continuous random variable's PDF is used to calculate its probability. As a result, only value ranges can have a non-zero probability. A continuous random variable's probability of equaling some value is always zero."
      ],
      "metadata": {
        "id": "pT2T8dLbAxC5"
      }
    },
    {
      "cell_type": "markdown",
      "source": [
        "Normal Distribution\n",
        "Normal Distribution is one of the most basic continuous distribution types. Gaussian distribution is another name for it. Around its mean value, this probability distribution is symmetrical. It also demonstrates that data close to the mean occurs more frequently than data far from it. Here, the mean is 0, and the variance is a finite value.\n",
        "\n",
        "In the example, you generated 100 random variables ranging from 1 to 50. After that, you created a function to define the normal distribution formula to calculate the probability density function. Then, you have plotted the data points and probability density function against X-axis and Y-axis, respectively."
      ],
      "metadata": {
        "id": "7U5U1ODYBOOh"
      }
    },
    {
      "cell_type": "markdown",
      "source": [
        "##Example 1: Estimating robot position with KF\n",
        "\n",
        "We have a robot equipped with sensors to directly measure the location of the robot in the room. The state of the robot is $(p_x, p_y)$ in the room, and the control inputs are the velocity in each direction $p^{'}_x$ and $p^{'}_y$ of unit magnitude. The following matrices are given.\n",
        "\n",
        "$F = \\begin{bmatrix} 1 & 0 \\\\ 0 & 1 \\end{bmatrix} $\n",
        "\n",
        "$ G =  \\begin{bmatrix} 1 & 0 \\\\ 0 & 1 \\end{bmatrix} $\n",
        "\n",
        "$ Q =  \\begin{bmatrix} 0.3 & 0 \\\\ 0 & 0.3 \\end{bmatrix} $\n",
        "\n",
        "$ H =  \\begin{bmatrix} 1 & 0 \\\\ 0 & 1 \\end{bmatrix} $\n",
        "\n",
        "$ R =  \\begin{bmatrix} 0.75 & 0.0 \\\\ 0.0 & 0.6 \\end{bmatrix} $\n",
        "\n",
        "Track the robot at each time step using Kalman filter. Compare the ideal trajectory with motion and measurement models trajectories. You can simulate the sensor measurements using the measurement model and the given matrices."
      ],
      "metadata": {
        "id": "1n715_SsNx5j"
      }
    },
    {
      "cell_type": "markdown",
      "source": [
        "##Solution\n",
        "\n",
        "To understand the problem and motivate our desire to use Kalman filter, let's plot and "
      ],
      "metadata": {
        "id": "dXHrwNf0N3_g"
      }
    },
    {
      "cell_type": "markdown",
      "source": [
        "The robot is initialized at $(p_x, p_y)= (0,0)$, and moves by applying constant control inputs $p^{'}_x = p^{'}_y=1$ for 10 time steps. Assume the initial belief state as the following:\n",
        "\n",
        "$ x_0 =  \\begin{bmatrix} 0 \\\\ 0 \\end{bmatrix} $\n",
        "\n",
        "$ P_0 =  \\begin{bmatrix} 0.1 & 0\\\\ 0 & 0.1 \\end{bmatrix} $\n"
      ],
      "metadata": {
        "id": "kiWONz6sVRnQ"
      }
    }
  ]
}